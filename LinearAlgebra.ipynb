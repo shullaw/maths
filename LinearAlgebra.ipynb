{
  "nbformat": 4,
  "nbformat_minor": 0,
  "metadata": {
    "colab": {
      "name": "LinearAlgebra.ipynb",
      "provenance": [],
      "authorship_tag": "ABX9TyPi7v8AymeKKhegjlwiznv9",
      "include_colab_link": true
    },
    "kernelspec": {
      "name": "python3",
      "display_name": "Python 3"
    },
    "language_info": {
      "name": "python"
    }
  },
  "cells": [
    {
      "cell_type": "markdown",
      "metadata": {
        "id": "view-in-github",
        "colab_type": "text"
      },
      "source": [
        "<a href=\"https://colab.research.google.com/github/shullaw/maths/blob/main/LinearAlgebra.ipynb\" target=\"_parent\"><img src=\"https://colab.research.google.com/assets/colab-badge.svg\" alt=\"Open In Colab\"/></a>"
      ]
    },
    {
      "cell_type": "markdown",
      "source": [
        "Exploring Linear Algebra with numpy"
      ],
      "metadata": {
        "id": "Y7fra9zDQtuO"
      }
    },
    {
      "cell_type": "code",
      "execution_count": 1,
      "metadata": {
        "id": "uH16oSNeM2gK"
      },
      "outputs": [],
      "source": [
        "import numpy as np"
      ]
    },
    {
      "cell_type": "code",
      "source": [
        "a = np.array([1, 2, 3, 11, 22, 33, 6, 9, 12]).reshape(3, 3)\n",
        "a"
      ],
      "metadata": {
        "colab": {
          "base_uri": "https://localhost:8080/"
        },
        "id": "M2kIUI4oQil9",
        "outputId": "01eeb24a-7a8e-4c59-90e7-65196846ffd2"
      },
      "execution_count": 2,
      "outputs": [
        {
          "output_type": "execute_result",
          "data": {
            "text/plain": [
              "array([[ 1,  2,  3],\n",
              "       [11, 22, 33],\n",
              "       [ 6,  9, 12]])"
            ]
          },
          "metadata": {},
          "execution_count": 2
        }
      ]
    },
    {
      "cell_type": "code",
      "source": [
        "a.dtype"
      ],
      "metadata": {
        "colab": {
          "base_uri": "https://localhost:8080/"
        },
        "id": "ujnqbkUWQpPd",
        "outputId": "47e47ba8-bc18-403f-ab41-17319b06f88f"
      },
      "execution_count": 3,
      "outputs": [
        {
          "output_type": "execute_result",
          "data": {
            "text/plain": [
              "dtype('int64')"
            ]
          },
          "metadata": {},
          "execution_count": 3
        }
      ]
    },
    {
      "cell_type": "code",
      "source": [
        "a.ndim"
      ],
      "metadata": {
        "colab": {
          "base_uri": "https://localhost:8080/"
        },
        "id": "fAGpuvgeQ6Z5",
        "outputId": "cac6c437-f357-4208-bd09-1778ece6df2f"
      },
      "execution_count": 4,
      "outputs": [
        {
          "output_type": "execute_result",
          "data": {
            "text/plain": [
              "2"
            ]
          },
          "metadata": {},
          "execution_count": 4
        }
      ]
    },
    {
      "cell_type": "code",
      "source": [
        "type(a)"
      ],
      "metadata": {
        "colab": {
          "base_uri": "https://localhost:8080/"
        },
        "id": "YM4YLyXLQ-Y7",
        "outputId": "d2f4ac5a-f4bd-4027-a7ff-3f391d2d30d0"
      },
      "execution_count": 5,
      "outputs": [
        {
          "output_type": "execute_result",
          "data": {
            "text/plain": [
              "numpy.ndarray"
            ]
          },
          "metadata": {},
          "execution_count": 5
        }
      ]
    },
    {
      "cell_type": "code",
      "source": [
        "b = np.array([i for i in range(0, 18, 2)]).reshape(3, 3)\n",
        "b"
      ],
      "metadata": {
        "colab": {
          "base_uri": "https://localhost:8080/"
        },
        "id": "XWAEJ_t4Q_c4",
        "outputId": "27d0749e-b906-4aba-9c22-4ee0553b82d7"
      },
      "execution_count": 6,
      "outputs": [
        {
          "output_type": "execute_result",
          "data": {
            "text/plain": [
              "array([[ 0,  2,  4],\n",
              "       [ 6,  8, 10],\n",
              "       [12, 14, 16]])"
            ]
          },
          "metadata": {},
          "execution_count": 6
        }
      ]
    },
    {
      "cell_type": "code",
      "source": [
        "c = np.array([i for i in range(6)]).reshape(3, 2)\n",
        "c"
      ],
      "metadata": {
        "colab": {
          "base_uri": "https://localhost:8080/"
        },
        "id": "iMRbQ6W7RFdf",
        "outputId": "c8fa5dc5-0614-4a93-b585-df5322e440f7"
      },
      "execution_count": 9,
      "outputs": [
        {
          "output_type": "execute_result",
          "data": {
            "text/plain": [
              "array([[0, 1],\n",
              "       [2, 3],\n",
              "       [4, 5]])"
            ]
          },
          "metadata": {},
          "execution_count": 9
        }
      ]
    },
    {
      "cell_type": "markdown",
      "source": [
        "Matrix addition"
      ],
      "metadata": {
        "id": "0W_gONl0VY5Y"
      }
    },
    {
      "cell_type": "code",
      "source": [
        "def add_matrices(A, B):\n",
        "  add = []\n",
        "\n",
        "  for i in range(len(A)):\n",
        "    add.append(A[i] + B[i])\n",
        "\n",
        "  return np.array(add)\n"
      ],
      "metadata": {
        "id": "-XXmqqzsRRCj"
      },
      "execution_count": 10,
      "outputs": []
    },
    {
      "cell_type": "code",
      "source": [
        "a.shape"
      ],
      "metadata": {
        "colab": {
          "base_uri": "https://localhost:8080/"
        },
        "id": "QjY8jHY0UiUL",
        "outputId": "be54a469-09fc-481c-b1a3-a20969e12d5a"
      },
      "execution_count": 11,
      "outputs": [
        {
          "output_type": "execute_result",
          "data": {
            "text/plain": [
              "(3, 3)"
            ]
          },
          "metadata": {},
          "execution_count": 11
        }
      ]
    },
    {
      "cell_type": "code",
      "source": [
        "b.shape"
      ],
      "metadata": {
        "colab": {
          "base_uri": "https://localhost:8080/"
        },
        "id": "HfKGyr7UUmux",
        "outputId": "217297a7-0e8a-4a86-d9f8-256ca9d639ba"
      },
      "execution_count": 12,
      "outputs": [
        {
          "output_type": "execute_result",
          "data": {
            "text/plain": [
              "(3, 3)"
            ]
          },
          "metadata": {},
          "execution_count": 12
        }
      ]
    },
    {
      "cell_type": "code",
      "source": [
        "print('First matrix: \\n', a)\n",
        "print('\\nSecond matrix: \\n', b)\n",
        "print('\\nSum: \\n', add_matrices(a, b))"
      ],
      "metadata": {
        "colab": {
          "base_uri": "https://localhost:8080/"
        },
        "id": "lUpybsIzUntB",
        "outputId": "a5f74668-8446-4fdb-f8df-805fe3d30262"
      },
      "execution_count": 13,
      "outputs": [
        {
          "output_type": "stream",
          "name": "stdout",
          "text": [
            "First matrix: \n",
            " [[ 1  2  3]\n",
            " [11 22 33]\n",
            " [ 6  9 12]]\n",
            "\n",
            "Second matrix: \n",
            " [[ 0  2  4]\n",
            " [ 6  8 10]\n",
            " [12 14 16]]\n",
            "\n",
            "Sum: \n",
            " [[ 1  4  7]\n",
            " [17 30 43]\n",
            " [18 23 28]]\n"
          ]
        }
      ]
    },
    {
      "cell_type": "code",
      "source": [
        "a + b  # numpy arrays of the same shape"
      ],
      "metadata": {
        "colab": {
          "base_uri": "https://localhost:8080/"
        },
        "id": "6zGAnh2rU2Nk",
        "outputId": "0b9df80d-560c-490c-af59-c99848a61576"
      },
      "execution_count": 16,
      "outputs": [
        {
          "output_type": "execute_result",
          "data": {
            "text/plain": [
              "array([[ 1,  4,  7],\n",
              "       [17, 30, 43],\n",
              "       [18, 23, 28]])"
            ]
          },
          "metadata": {},
          "execution_count": 16
        }
      ]
    },
    {
      "cell_type": "code",
      "source": [
        "a - b"
      ],
      "metadata": {
        "colab": {
          "base_uri": "https://localhost:8080/"
        },
        "id": "5NNKqASXU7lY",
        "outputId": "78695586-8a10-4a7d-a015-6de85de7168c"
      },
      "execution_count": 17,
      "outputs": [
        {
          "output_type": "execute_result",
          "data": {
            "text/plain": [
              "array([[ 1,  0, -1],\n",
              "       [ 5, 14, 23],\n",
              "       [-6, -5, -4]])"
            ]
          },
          "metadata": {},
          "execution_count": 17
        }
      ]
    },
    {
      "cell_type": "markdown",
      "source": [
        "Dot Product\n",
        "  - If A and B are both 1D: dot product (scalar result)\n",
        "  - If A and B are both 2D: matrix multiplication\n",
        "  - If A or B are scalar: element-wise multiplication\n",
        "  - If A is n-D and B is m-D: sum-product"
      ],
      "metadata": {
        "id": "7DtczU3jVe7u"
      }
    },
    {
      "cell_type": "code",
      "source": [
        "np.dot(a, b)"
      ],
      "metadata": {
        "colab": {
          "base_uri": "https://localhost:8080/"
        },
        "id": "s8XY_cx3VTj7",
        "outputId": "517486a1-ce32-4483-abf0-77d3f47c1a4a"
      },
      "execution_count": 52,
      "outputs": [
        {
          "output_type": "execute_result",
          "data": {
            "text/plain": [
              "array([[1., 0.],\n",
              "       [0., 1.]])"
            ]
          },
          "metadata": {},
          "execution_count": 52
        }
      ]
    },
    {
      "cell_type": "code",
      "source": [
        "np.matmul(a, b)  # preferable to use with 2D matrices (or @ operator)"
      ],
      "metadata": {
        "colab": {
          "base_uri": "https://localhost:8080/"
        },
        "id": "XhacWc3zYzwH",
        "outputId": "6c9045be-5220-4fd2-da55-b9def325d560"
      },
      "execution_count": 21,
      "outputs": [
        {
          "output_type": "execute_result",
          "data": {
            "text/plain": [
              "array([[ 48,  60,  72],\n",
              "       [528, 660, 792],\n",
              "       [198, 252, 306]])"
            ]
          },
          "metadata": {},
          "execution_count": 21
        }
      ]
    },
    {
      "cell_type": "markdown",
      "source": [
        "Determinants and Transposing Matrices"
      ],
      "metadata": {
        "id": "49AxHxdTZ1Hs"
      }
    },
    {
      "cell_type": "code",
      "source": [
        "a"
      ],
      "metadata": {
        "colab": {
          "base_uri": "https://localhost:8080/"
        },
        "id": "XW57jxz9cSi0",
        "outputId": "3d081b41-4c27-41af-8017-68dfea092a07"
      },
      "execution_count": 23,
      "outputs": [
        {
          "output_type": "execute_result",
          "data": {
            "text/plain": [
              "array([[ 1,  2,  3],\n",
              "       [11, 22, 33],\n",
              "       [ 6,  9, 12]])"
            ]
          },
          "metadata": {},
          "execution_count": 23
        }
      ]
    },
    {
      "cell_type": "code",
      "source": [
        "det_a = np.linalg.det(a)\n",
        "det_a"
      ],
      "metadata": {
        "colab": {
          "base_uri": "https://localhost:8080/"
        },
        "id": "rf7p_D3XZpJz",
        "outputId": "0ab04ed7-2249-484c-f3be-766e428dd90c"
      },
      "execution_count": 24,
      "outputs": [
        {
          "output_type": "execute_result",
          "data": {
            "text/plain": [
              "0.0"
            ]
          },
          "metadata": {},
          "execution_count": 24
        }
      ]
    },
    {
      "cell_type": "code",
      "source": [
        "a.T"
      ],
      "metadata": {
        "colab": {
          "base_uri": "https://localhost:8080/"
        },
        "id": "Rmt3EYRscNfj",
        "outputId": "4f7a7040-20d3-4b8a-9ec1-86098325d4b5"
      },
      "execution_count": 25,
      "outputs": [
        {
          "output_type": "execute_result",
          "data": {
            "text/plain": [
              "array([[ 1, 11,  6],\n",
              "       [ 2, 22,  9],\n",
              "       [ 3, 33, 12]])"
            ]
          },
          "metadata": {},
          "execution_count": 25
        }
      ]
    },
    {
      "cell_type": "code",
      "source": [
        "np.transpose(a)"
      ],
      "metadata": {
        "colab": {
          "base_uri": "https://localhost:8080/"
        },
        "id": "IaKXUBqMc7Yh",
        "outputId": "53e59c52-882a-4a30-9b34-7c48c0e969ee"
      },
      "execution_count": 26,
      "outputs": [
        {
          "output_type": "execute_result",
          "data": {
            "text/plain": [
              "array([[ 1, 11,  6],\n",
              "       [ 2, 22,  9],\n",
              "       [ 3, 33, 12]])"
            ]
          },
          "metadata": {},
          "execution_count": 26
        }
      ]
    },
    {
      "cell_type": "markdown",
      "source": [
        "Trace of a Matrix"
      ],
      "metadata": {
        "id": "VNSWITzxeL0b"
      }
    },
    {
      "cell_type": "code",
      "source": [
        "a"
      ],
      "metadata": {
        "colab": {
          "base_uri": "https://localhost:8080/"
        },
        "id": "U1TRmrGBc-gJ",
        "outputId": "899b8c67-5ab0-4992-ca5d-e1c677b00d99"
      },
      "execution_count": 27,
      "outputs": [
        {
          "output_type": "execute_result",
          "data": {
            "text/plain": [
              "array([[ 1,  2,  3],\n",
              "       [11, 22, 33],\n",
              "       [ 6,  9, 12]])"
            ]
          },
          "metadata": {},
          "execution_count": 27
        }
      ]
    },
    {
      "cell_type": "code",
      "source": [
        "np.trace(a)"
      ],
      "metadata": {
        "colab": {
          "base_uri": "https://localhost:8080/"
        },
        "id": "IvJFGfr4eTIT",
        "outputId": "839231da-db54-4646-9f0a-043142108364"
      },
      "execution_count": 28,
      "outputs": [
        {
          "output_type": "execute_result",
          "data": {
            "text/plain": [
              "35"
            ]
          },
          "metadata": {},
          "execution_count": 28
        }
      ]
    },
    {
      "cell_type": "code",
      "source": [
        "symmetric_mat = a.dot(a.T)\n",
        "symmetric_mat"
      ],
      "metadata": {
        "colab": {
          "base_uri": "https://localhost:8080/"
        },
        "id": "zy3CwfOPeUKD",
        "outputId": "5d6a661e-98a4-4342-e64b-165ff9d8f918"
      },
      "execution_count": 29,
      "outputs": [
        {
          "output_type": "execute_result",
          "data": {
            "text/plain": [
              "array([[  14,  154,   60],\n",
              "       [ 154, 1694,  660],\n",
              "       [  60,  660,  261]])"
            ]
          },
          "metadata": {},
          "execution_count": 29
        }
      ]
    },
    {
      "cell_type": "code",
      "source": [
        "symmetric_mat[1][2] == symmetric_mat[2][1]"
      ],
      "metadata": {
        "colab": {
          "base_uri": "https://localhost:8080/"
        },
        "id": "5zI819w-ep8K",
        "outputId": "7023ed1f-51b5-4f93-c773-47ea13e6c028"
      },
      "execution_count": 32,
      "outputs": [
        {
          "output_type": "execute_result",
          "data": {
            "text/plain": [
              "True"
            ]
          },
          "metadata": {},
          "execution_count": 32
        }
      ]
    },
    {
      "cell_type": "code",
      "source": [
        "diag_mat = np.zeros((3,3), dtype='int32')\n",
        "np.fill_diagonal(diag_mat, 2)\n",
        "\n",
        "diag_mat"
      ],
      "metadata": {
        "colab": {
          "base_uri": "https://localhost:8080/"
        },
        "id": "gyCm-qBQfW7M",
        "outputId": "e89d20f3-7f6a-4d73-f064-3abad2db5e72"
      },
      "execution_count": 33,
      "outputs": [
        {
          "output_type": "execute_result",
          "data": {
            "text/plain": [
              "array([[2, 0, 0],\n",
              "       [0, 2, 0],\n",
              "       [0, 0, 2]], dtype=int32)"
            ]
          },
          "metadata": {},
          "execution_count": 33
        }
      ]
    },
    {
      "cell_type": "code",
      "source": [
        "identity = np.zeros((3,3), dtype='float')\n",
        "np.fill_diagonal(identity, 1)\n",
        "\n",
        "identity"
      ],
      "metadata": {
        "colab": {
          "base_uri": "https://localhost:8080/"
        },
        "id": "aU3A5OpffYrQ",
        "outputId": "b5cf885a-0888-4807-a245-155991a24e1b"
      },
      "execution_count": 34,
      "outputs": [
        {
          "output_type": "execute_result",
          "data": {
            "text/plain": [
              "array([[1., 0., 0.],\n",
              "       [0., 1., 0.],\n",
              "       [0., 0., 1.]])"
            ]
          },
          "metadata": {},
          "execution_count": 34
        }
      ]
    },
    {
      "cell_type": "code",
      "source": [
        "zero_mat = np.zeros((3,3))\n",
        "zero_mat"
      ],
      "metadata": {
        "colab": {
          "base_uri": "https://localhost:8080/"
        },
        "id": "ztl1oNxjfw9s",
        "outputId": "0869bf7f-fc11-4af5-817f-5dd9b3721937"
      },
      "execution_count": 35,
      "outputs": [
        {
          "output_type": "execute_result",
          "data": {
            "text/plain": [
              "array([[0., 0., 0.],\n",
              "       [0., 0., 0.],\n",
              "       [0., 0., 0.]])"
            ]
          },
          "metadata": {},
          "execution_count": 35
        }
      ]
    },
    {
      "cell_type": "markdown",
      "source": [
        "Computing Inverse of Matrix\n",
        "\n",
        "$AB = BA = I$"
      ],
      "metadata": {
        "id": "zhEVbc5lgBTq"
      }
    },
    {
      "cell_type": "code",
      "source": [
        "a = np.array([[2,3],\n",
        "             [2,2]])\n",
        "a"
      ],
      "metadata": {
        "colab": {
          "base_uri": "https://localhost:8080/"
        },
        "id": "W_pwIvXFf_b9",
        "outputId": "bba1d31b-65b7-499b-c4d9-2af145de1a52"
      },
      "execution_count": 37,
      "outputs": [
        {
          "output_type": "execute_result",
          "data": {
            "text/plain": [
              "array([[2, 3],\n",
              "       [2, 2]])"
            ]
          },
          "metadata": {},
          "execution_count": 37
        }
      ]
    },
    {
      "cell_type": "code",
      "source": [
        "b = np.array([[-1, 1.5],\n",
        "              [1, -1]])\n",
        "b"
      ],
      "metadata": {
        "colab": {
          "base_uri": "https://localhost:8080/"
        },
        "id": "AkRxrkJQgVpQ",
        "outputId": "cb537252-f4c4-424c-e27d-0e5f154b9c17"
      },
      "execution_count": 38,
      "outputs": [
        {
          "output_type": "execute_result",
          "data": {
            "text/plain": [
              "array([[-1. ,  1.5],\n",
              "       [ 1. , -1. ]])"
            ]
          },
          "metadata": {},
          "execution_count": 38
        }
      ]
    },
    {
      "cell_type": "code",
      "source": [
        "a.dot(b)"
      ],
      "metadata": {
        "colab": {
          "base_uri": "https://localhost:8080/"
        },
        "id": "c8W8YbNFgdcH",
        "outputId": "cf1ff933-f640-4153-ef90-9cd986042bd4"
      },
      "execution_count": 39,
      "outputs": [
        {
          "output_type": "execute_result",
          "data": {
            "text/plain": [
              "array([[1., 0.],\n",
              "       [0., 1.]])"
            ]
          },
          "metadata": {},
          "execution_count": 39
        }
      ]
    },
    {
      "cell_type": "code",
      "source": [
        "inverse_a = np.linalg.inv(a)\n",
        "inverse_a"
      ],
      "metadata": {
        "colab": {
          "base_uri": "https://localhost:8080/"
        },
        "id": "5NkyqkLSggq8",
        "outputId": "9054a8ce-45a1-4ab3-9e82-ed0fdbf8142f"
      },
      "execution_count": 40,
      "outputs": [
        {
          "output_type": "execute_result",
          "data": {
            "text/plain": [
              "array([[-1. ,  1.5],\n",
              "       [ 1. , -1. ]])"
            ]
          },
          "metadata": {},
          "execution_count": 40
        }
      ]
    },
    {
      "cell_type": "code",
      "source": [
        "inverse_a == b"
      ],
      "metadata": {
        "colab": {
          "base_uri": "https://localhost:8080/"
        },
        "id": "sdG0RLYFgoi7",
        "outputId": "47b811bd-9563-4e81-936c-3cadb9c13231"
      },
      "execution_count": 41,
      "outputs": [
        {
          "output_type": "execute_result",
          "data": {
            "text/plain": [
              "array([[ True,  True],\n",
              "       [ True,  True]])"
            ]
          },
          "metadata": {},
          "execution_count": 41
        }
      ]
    },
    {
      "cell_type": "code",
      "source": [
        "a"
      ],
      "metadata": {
        "colab": {
          "base_uri": "https://localhost:8080/"
        },
        "id": "-LfHeyEngvND",
        "outputId": "e2265a6a-7537-4097-e692-055ef5bd096a"
      },
      "execution_count": 42,
      "outputs": [
        {
          "output_type": "execute_result",
          "data": {
            "text/plain": [
              "array([[2, 3],\n",
              "       [2, 2]])"
            ]
          },
          "metadata": {},
          "execution_count": 42
        }
      ]
    },
    {
      "cell_type": "code",
      "source": [
        "b"
      ],
      "metadata": {
        "colab": {
          "base_uri": "https://localhost:8080/"
        },
        "id": "H5iUsm0Bg1vh",
        "outputId": "9c3b92a0-30d5-49cb-9be5-5e99a6b3f3e3"
      },
      "execution_count": 43,
      "outputs": [
        {
          "output_type": "execute_result",
          "data": {
            "text/plain": [
              "array([[-1. ,  1.5],\n",
              "       [ 1. , -1. ]])"
            ]
          },
          "metadata": {},
          "execution_count": 43
        }
      ]
    },
    {
      "cell_type": "code",
      "source": [
        "a * b # element-wise"
      ],
      "metadata": {
        "colab": {
          "base_uri": "https://localhost:8080/"
        },
        "id": "lJvaorg7g2qj",
        "outputId": "16ab17ff-6176-4996-8349-ee667151bd8a"
      },
      "execution_count": 48,
      "outputs": [
        {
          "output_type": "execute_result",
          "data": {
            "text/plain": [
              "array([[-2. ,  4.5],\n",
              "       [ 2. , -2. ]])"
            ]
          },
          "metadata": {},
          "execution_count": 48
        }
      ]
    },
    {
      "cell_type": "code",
      "source": [
        "np.multiply(a, b)  # element-wise"
      ],
      "metadata": {
        "colab": {
          "base_uri": "https://localhost:8080/"
        },
        "id": "fdhw7znAg4Wa",
        "outputId": "f0bd8687-64a6-4017-e862-2f27f4b5b1b6"
      },
      "execution_count": 47,
      "outputs": [
        {
          "output_type": "execute_result",
          "data": {
            "text/plain": [
              "array([[-2. ,  4.5],\n",
              "       [ 2. , -2. ]])"
            ]
          },
          "metadata": {},
          "execution_count": 47
        }
      ]
    },
    {
      "cell_type": "code",
      "source": [
        "a"
      ],
      "metadata": {
        "colab": {
          "base_uri": "https://localhost:8080/"
        },
        "id": "yMrvErvNg-ct",
        "outputId": "d1ef4a26-6692-4666-ba2f-d3091d9eff70"
      },
      "execution_count": 49,
      "outputs": [
        {
          "output_type": "execute_result",
          "data": {
            "text/plain": [
              "array([[2, 3],\n",
              "       [2, 2]])"
            ]
          },
          "metadata": {},
          "execution_count": 49
        }
      ]
    },
    {
      "cell_type": "code",
      "source": [
        "b"
      ],
      "metadata": {
        "colab": {
          "base_uri": "https://localhost:8080/"
        },
        "id": "FL3vgxeChDEo",
        "outputId": "46fb63e9-e64c-44b3-e82e-951318b106e4"
      },
      "execution_count": 50,
      "outputs": [
        {
          "output_type": "execute_result",
          "data": {
            "text/plain": [
              "array([[-1. ,  1.5],\n",
              "       [ 1. , -1. ]])"
            ]
          },
          "metadata": {},
          "execution_count": 50
        }
      ]
    },
    {
      "cell_type": "code",
      "source": [
        "a.shape, b.shape"
      ],
      "metadata": {
        "colab": {
          "base_uri": "https://localhost:8080/"
        },
        "id": "WPDVRV6LhFl3",
        "outputId": "0565e4c1-6da4-4dd2-82f2-b59ab91007e3"
      },
      "execution_count": 51,
      "outputs": [
        {
          "output_type": "execute_result",
          "data": {
            "text/plain": [
              "((2, 2), (2, 2))"
            ]
          },
          "metadata": {},
          "execution_count": 51
        }
      ]
    },
    {
      "cell_type": "code",
      "source": [
        "a.shape[1] == b.shape[0]"
      ],
      "metadata": {
        "colab": {
          "base_uri": "https://localhost:8080/"
        },
        "id": "B-fNxlbThHEY",
        "outputId": "80674a64-34ed-49e1-ae59-88f1d2538ce8"
      },
      "execution_count": 53,
      "outputs": [
        {
          "output_type": "execute_result",
          "data": {
            "text/plain": [
              "True"
            ]
          },
          "metadata": {},
          "execution_count": 53
        }
      ]
    },
    {
      "cell_type": "code",
      "source": [
        "a.dot(b)"
      ],
      "metadata": {
        "colab": {
          "base_uri": "https://localhost:8080/"
        },
        "id": "80TSoxBShUX2",
        "outputId": "95278e07-ef50-4c0a-a9ab-457f50addf8c"
      },
      "execution_count": 54,
      "outputs": [
        {
          "output_type": "execute_result",
          "data": {
            "text/plain": [
              "array([[1., 0.],\n",
              "       [0., 1.]])"
            ]
          },
          "metadata": {},
          "execution_count": 54
        }
      ]
    },
    {
      "cell_type": "code",
      "source": [
        "a @ b"
      ],
      "metadata": {
        "colab": {
          "base_uri": "https://localhost:8080/"
        },
        "id": "qZfRzpZNhWZ_",
        "outputId": "626050b1-e474-4038-e68c-a45a18d46be3"
      },
      "execution_count": 55,
      "outputs": [
        {
          "output_type": "execute_result",
          "data": {
            "text/plain": [
              "array([[1., 0.],\n",
              "       [0., 1.]])"
            ]
          },
          "metadata": {},
          "execution_count": 55
        }
      ]
    },
    {
      "cell_type": "code",
      "source": [
        "from numpy.linalg import matrix_rank"
      ],
      "metadata": {
        "id": "cfGQ6fH1hXP2"
      },
      "execution_count": 56,
      "outputs": []
    },
    {
      "cell_type": "code",
      "source": [
        "matrix_rank(a)"
      ],
      "metadata": {
        "colab": {
          "base_uri": "https://localhost:8080/"
        },
        "id": "khvkn-MUhvlg",
        "outputId": "9773ffbc-2a13-47ef-ac90-d07f96d5cf74"
      },
      "execution_count": 57,
      "outputs": [
        {
          "output_type": "execute_result",
          "data": {
            "text/plain": [
              "2"
            ]
          },
          "metadata": {},
          "execution_count": 57
        }
      ]
    },
    {
      "cell_type": "code",
      "source": [
        "from scipy.sparse import identity, diags"
      ],
      "metadata": {
        "id": "q-yyrDeShx0C"
      },
      "execution_count": 58,
      "outputs": []
    },
    {
      "cell_type": "code",
      "source": [
        "identity(2)"
      ],
      "metadata": {
        "colab": {
          "base_uri": "https://localhost:8080/"
        },
        "id": "Kx2PX6S7iDUU",
        "outputId": "7be967ed-42df-4edc-b808-0ca61b8f22ea"
      },
      "execution_count": 59,
      "outputs": [
        {
          "output_type": "execute_result",
          "data": {
            "text/plain": [
              "<2x2 sparse matrix of type '<class 'numpy.float64'>'\n",
              "\twith 2 stored elements (1 diagonals) in DIAgonal format>"
            ]
          },
          "metadata": {},
          "execution_count": 59
        }
      ]
    },
    {
      "cell_type": "code",
      "source": [
        "id_mat = identity(2).toarray()\n",
        "id_mat"
      ],
      "metadata": {
        "colab": {
          "base_uri": "https://localhost:8080/"
        },
        "id": "-dj0Ory7iF_J",
        "outputId": "acfcdaf0-16d4-4ad1-a4cc-798f46b48df1"
      },
      "execution_count": 61,
      "outputs": [
        {
          "output_type": "execute_result",
          "data": {
            "text/plain": [
              "array([[1., 0.],\n",
              "       [0., 1.]])"
            ]
          },
          "metadata": {},
          "execution_count": 61
        }
      ]
    },
    {
      "cell_type": "code",
      "source": [
        "scalar_mat = diags([2,2,2], 0).toarray()  # 0 places on main diagonal\n",
        "scalar_mat"
      ],
      "metadata": {
        "colab": {
          "base_uri": "https://localhost:8080/"
        },
        "id": "HR2Q5eHDiN3C",
        "outputId": "3582fd74-7580-4aa2-fca4-73939fb0bb3b"
      },
      "execution_count": 64,
      "outputs": [
        {
          "output_type": "execute_result",
          "data": {
            "text/plain": [
              "array([[2., 0., 0.],\n",
              "       [0., 2., 0.],\n",
              "       [0., 0., 2.]])"
            ]
          },
          "metadata": {},
          "execution_count": 64
        }
      ]
    },
    {
      "cell_type": "code",
      "source": [
        "diag_mat = diags([2, 1, 3], 0).toarray()  # toarray converts to numpy array\n",
        "diag_mat"
      ],
      "metadata": {
        "colab": {
          "base_uri": "https://localhost:8080/"
        },
        "id": "rpRPKA6CiTMC",
        "outputId": "21a99c15-3cbc-47d1-c0c6-28535425e468"
      },
      "execution_count": 66,
      "outputs": [
        {
          "output_type": "execute_result",
          "data": {
            "text/plain": [
              "array([[2., 0., 0.],\n",
              "       [0., 1., 0.],\n",
              "       [0., 0., 3.]])"
            ]
          },
          "metadata": {},
          "execution_count": 66
        }
      ]
    },
    {
      "cell_type": "markdown",
      "source": [
        "Matrix Decomposition\n",
        "\n",
        "LU:\n",
        "\n",
        "$L(Ux) = b \\rightarrow Ux = L^{-1}b$\n",
        "\n",
        "Full Pivot:\n",
        "\n",
        "$PAQ = LU$\n",
        "\n",
        "QR:\n",
        "\n",
        "$A = QR$\n",
        "\n",
        "$Q^T = Q^{-1}$\n",
        "\n",
        "$Q^H = Q^{-1}$\n",
        "\n",
        "$Q(Rx) = b \\rightarrow Rx = Q^Tb = c \\rightarrow Rx = c$\n",
        "\n",
        "Cholesky: twice as efficient as LU for solving linear equations (only for Hermitian matrices)\n",
        "\n",
        "Hermitian matrix: $A = AH$\n",
        "\n",
        "Positive Definite Matrix: $z^TMz$ is positive for every non-zero real column vector $z$\n",
        "\n",
        "$A = LL^{*}$"
      ],
      "metadata": {
        "id": "wkbe2yK0rFSa"
      }
    },
    {
      "cell_type": "code",
      "source": [
        "import numpy as np\n",
        "from scipy.linalg import lu, qr, inv, cholesky\n"
      ],
      "metadata": {
        "id": "gqGfZcczipOZ"
      },
      "execution_count": 71,
      "outputs": []
    },
    {
      "cell_type": "code",
      "source": [
        "A = np.array([[4, 3],\n",
        "             [6, 3]])\n",
        "A"
      ],
      "metadata": {
        "colab": {
          "base_uri": "https://localhost:8080/"
        },
        "id": "28JsOgklyiWF",
        "outputId": "bed28518-1ad3-4798-eac4-2834f5e954e2"
      },
      "execution_count": 73,
      "outputs": [
        {
          "output_type": "execute_result",
          "data": {
            "text/plain": [
              "array([[4, 3],\n",
              "       [6, 3]])"
            ]
          },
          "metadata": {},
          "execution_count": 73
        }
      ]
    },
    {
      "cell_type": "code",
      "source": [
        "p, l, u = lu(A)"
      ],
      "metadata": {
        "id": "QCYdzR73ysK0"
      },
      "execution_count": 74,
      "outputs": []
    },
    {
      "cell_type": "code",
      "source": [
        "p  # permutation matrix"
      ],
      "metadata": {
        "colab": {
          "base_uri": "https://localhost:8080/"
        },
        "id": "bXb6dIMTzNhW",
        "outputId": "e39423fb-64c5-44e5-b6c0-f11b4a431bd8"
      },
      "execution_count": 80,
      "outputs": [
        {
          "output_type": "execute_result",
          "data": {
            "text/plain": [
              "array([[0., 1.],\n",
              "       [1., 0.]])"
            ]
          },
          "metadata": {},
          "execution_count": 80
        }
      ]
    },
    {
      "cell_type": "code",
      "source": [
        "l  # lower triangular matrix"
      ],
      "metadata": {
        "colab": {
          "base_uri": "https://localhost:8080/"
        },
        "id": "nMC5sugZzUSw",
        "outputId": "0d9d682c-5b15-4321-c22c-9e57dea8690b"
      },
      "execution_count": 81,
      "outputs": [
        {
          "output_type": "execute_result",
          "data": {
            "text/plain": [
              "array([[1.        , 0.        ],\n",
              "       [0.66666667, 1.        ]])"
            ]
          },
          "metadata": {},
          "execution_count": 81
        }
      ]
    },
    {
      "cell_type": "code",
      "source": [
        "u  # upper triangular matrix"
      ],
      "metadata": {
        "colab": {
          "base_uri": "https://localhost:8080/"
        },
        "id": "JgiorZXszfaL",
        "outputId": "dd5598fc-0ef5-4253-be84-0965dbf56d2d"
      },
      "execution_count": 82,
      "outputs": [
        {
          "output_type": "execute_result",
          "data": {
            "text/plain": [
              "array([[6., 3.],\n",
              "       [0., 1.]])"
            ]
          },
          "metadata": {},
          "execution_count": 82
        }
      ]
    },
    {
      "cell_type": "code",
      "source": [
        "p @ l @ u  # np.matmul"
      ],
      "metadata": {
        "colab": {
          "base_uri": "https://localhost:8080/"
        },
        "id": "5YWn2E70zjkP",
        "outputId": "5f122024-f5c0-4f83-dd1a-26310464c029"
      },
      "execution_count": 83,
      "outputs": [
        {
          "output_type": "execute_result",
          "data": {
            "text/plain": [
              "array([[4., 3.],\n",
              "       [6., 3.]])"
            ]
          },
          "metadata": {},
          "execution_count": 83
        }
      ]
    },
    {
      "cell_type": "code",
      "source": [
        "np.allclose(p@l@u, A)"
      ],
      "metadata": {
        "colab": {
          "base_uri": "https://localhost:8080/"
        },
        "id": "Xee0x70yzm7O",
        "outputId": "74423677-b721-4d9a-fcba-26d72abe0e2f"
      },
      "execution_count": 84,
      "outputs": [
        {
          "output_type": "execute_result",
          "data": {
            "text/plain": [
              "True"
            ]
          },
          "metadata": {},
          "execution_count": 84
        }
      ]
    },
    {
      "cell_type": "code",
      "source": [
        "A = np.array([[2, 4, 6],\n",
        "              [3, 6, 9],\n",
        "              [1, 3, 5]])\n",
        "A"
      ],
      "metadata": {
        "colab": {
          "base_uri": "https://localhost:8080/"
        },
        "id": "dQdMfalXzvn2",
        "outputId": "7473fc0b-e288-4446-c2df-d312f323c51a"
      },
      "execution_count": 85,
      "outputs": [
        {
          "output_type": "execute_result",
          "data": {
            "text/plain": [
              "array([[2, 4, 6],\n",
              "       [3, 6, 9],\n",
              "       [1, 3, 5]])"
            ]
          },
          "metadata": {},
          "execution_count": 85
        }
      ]
    },
    {
      "cell_type": "code",
      "source": [
        "p, l, u = lu(A)"
      ],
      "metadata": {
        "id": "09LSsELN1in7"
      },
      "execution_count": 86,
      "outputs": []
    },
    {
      "cell_type": "code",
      "source": [
        "p"
      ],
      "metadata": {
        "colab": {
          "base_uri": "https://localhost:8080/"
        },
        "id": "zaOHSpmV1lzs",
        "outputId": "abe504d6-3a4d-484f-afad-ffe31807a636"
      },
      "execution_count": 87,
      "outputs": [
        {
          "output_type": "execute_result",
          "data": {
            "text/plain": [
              "array([[0., 0., 1.],\n",
              "       [1., 0., 0.],\n",
              "       [0., 1., 0.]])"
            ]
          },
          "metadata": {},
          "execution_count": 87
        }
      ]
    },
    {
      "cell_type": "code",
      "source": [
        "l"
      ],
      "metadata": {
        "colab": {
          "base_uri": "https://localhost:8080/"
        },
        "id": "wnmu2B6w1m0s",
        "outputId": "120a177b-b223-4d22-d381-efe87532ebbd"
      },
      "execution_count": 88,
      "outputs": [
        {
          "output_type": "execute_result",
          "data": {
            "text/plain": [
              "array([[1.        , 0.        , 0.        ],\n",
              "       [0.33333333, 1.        , 0.        ],\n",
              "       [0.66666667, 0.        , 1.        ]])"
            ]
          },
          "metadata": {},
          "execution_count": 88
        }
      ]
    },
    {
      "cell_type": "code",
      "source": [
        "u"
      ],
      "metadata": {
        "colab": {
          "base_uri": "https://localhost:8080/"
        },
        "id": "pQ1AhWSp1olJ",
        "outputId": "12695d6e-df86-49a3-df41-618bf24cecf8"
      },
      "execution_count": 89,
      "outputs": [
        {
          "output_type": "execute_result",
          "data": {
            "text/plain": [
              "array([[3., 6., 9.],\n",
              "       [0., 1., 2.],\n",
              "       [0., 0., 0.]])"
            ]
          },
          "metadata": {},
          "execution_count": 89
        }
      ]
    },
    {
      "cell_type": "code",
      "source": [
        "p.dot(l).dot(u)  # not as efficient as @"
      ],
      "metadata": {
        "colab": {
          "base_uri": "https://localhost:8080/"
        },
        "id": "a6OYSdbN1pJt",
        "outputId": "b14f0cb0-c5ff-4dcd-e395-59fca2b2886e"
      },
      "execution_count": 91,
      "outputs": [
        {
          "output_type": "execute_result",
          "data": {
            "text/plain": [
              "array([[2., 4., 6.],\n",
              "       [3., 6., 9.],\n",
              "       [1., 3., 5.]])"
            ]
          },
          "metadata": {},
          "execution_count": 91
        }
      ]
    },
    {
      "cell_type": "code",
      "source": [
        "np.allclose(p.dot(l).dot(u), A)"
      ],
      "metadata": {
        "colab": {
          "base_uri": "https://localhost:8080/"
        },
        "id": "dhtgNoN91zqD",
        "outputId": "8f067052-e21d-403c-9563-d629964809a6"
      },
      "execution_count": 92,
      "outputs": [
        {
          "output_type": "execute_result",
          "data": {
            "text/plain": [
              "True"
            ]
          },
          "metadata": {},
          "execution_count": 92
        }
      ]
    },
    {
      "cell_type": "code",
      "source": [
        "A = np.array(np.random.randint(-10, 10, size=(3, 3)))\n",
        "A"
      ],
      "metadata": {
        "colab": {
          "base_uri": "https://localhost:8080/"
        },
        "id": "ZEW1z2G6143c",
        "outputId": "3d577184-420f-410d-95d1-df44b32e776a"
      },
      "execution_count": 93,
      "outputs": [
        {
          "output_type": "execute_result",
          "data": {
            "text/plain": [
              "array([[ 6,  6, -6],\n",
              "       [-8, -5, -8],\n",
              "       [-6,  7, -3]])"
            ]
          },
          "metadata": {},
          "execution_count": 93
        }
      ]
    },
    {
      "cell_type": "code",
      "source": [
        "q, r = qr(A)"
      ],
      "metadata": {
        "id": "HiQK44nn2K8_"
      },
      "execution_count": 95,
      "outputs": []
    },
    {
      "cell_type": "code",
      "source": [
        "q"
      ],
      "metadata": {
        "colab": {
          "base_uri": "https://localhost:8080/"
        },
        "id": "aPZCvI2P2NzM",
        "outputId": "26d44250-ba1f-4063-8a9f-c3faa4da306d"
      },
      "execution_count": 96,
      "outputs": [
        {
          "output_type": "execute_result",
          "data": {
            "text/plain": [
              "array([[-0.51449576,  0.4466625 ,  0.73197454],\n",
              "       [ 0.68599434, -0.297775  ,  0.66388389],\n",
              "       [ 0.51449576,  0.84369583, -0.15320397]])"
            ]
          },
          "metadata": {},
          "execution_count": 96
        }
      ]
    },
    {
      "cell_type": "code",
      "source": [
        "r"
      ],
      "metadata": {
        "colab": {
          "base_uri": "https://localhost:8080/"
        },
        "id": "UFVOy8Ik2OLI",
        "outputId": "a0c7d562-87b9-4ae8-a096-8ee5bcb5b6a8"
      },
      "execution_count": 97,
      "outputs": [
        {
          "output_type": "execute_result",
          "data": {
            "text/plain": [
              "array([[-11.66190379,  -2.91547595,  -3.94446746],\n",
              "       [  0.        ,  10.07472084,  -2.8288625 ],\n",
              "       [  0.        ,   0.        ,  -9.24330641]])"
            ]
          },
          "metadata": {},
          "execution_count": 97
        }
      ]
    },
    {
      "cell_type": "code",
      "source": [
        "q@r"
      ],
      "metadata": {
        "colab": {
          "base_uri": "https://localhost:8080/"
        },
        "id": "-_BMW_3B2Oq9",
        "outputId": "8d3ae484-dfd4-4a41-e363-a1c5b5ed8477"
      },
      "execution_count": 98,
      "outputs": [
        {
          "output_type": "execute_result",
          "data": {
            "text/plain": [
              "array([[ 6.,  6., -6.],\n",
              "       [-8., -5., -8.],\n",
              "       [-6.,  7., -3.]])"
            ]
          },
          "metadata": {},
          "execution_count": 98
        }
      ]
    },
    {
      "cell_type": "code",
      "source": [
        "np.allclose(q@r, A)"
      ],
      "metadata": {
        "colab": {
          "base_uri": "https://localhost:8080/"
        },
        "id": "ePASna-v2T9a",
        "outputId": "959161c1-4bd5-4ac4-b3a4-d2be59ee3e30"
      },
      "execution_count": 99,
      "outputs": [
        {
          "output_type": "execute_result",
          "data": {
            "text/plain": [
              "True"
            ]
          },
          "metadata": {},
          "execution_count": 99
        }
      ]
    },
    {
      "cell_type": "code",
      "source": [
        "transpose_q = q.T\n",
        "transpose_q"
      ],
      "metadata": {
        "colab": {
          "base_uri": "https://localhost:8080/"
        },
        "id": "nJGTBqmS2e5S",
        "outputId": "ab599c52-604a-4023-bd73-281a46ab1e6c"
      },
      "execution_count": 100,
      "outputs": [
        {
          "output_type": "execute_result",
          "data": {
            "text/plain": [
              "array([[-0.51449576,  0.68599434,  0.51449576],\n",
              "       [ 0.4466625 , -0.297775  ,  0.84369583],\n",
              "       [ 0.73197454,  0.66388389, -0.15320397]])"
            ]
          },
          "metadata": {},
          "execution_count": 100
        }
      ]
    },
    {
      "cell_type": "code",
      "source": [
        "q @ transpose_q"
      ],
      "metadata": {
        "colab": {
          "base_uri": "https://localhost:8080/"
        },
        "id": "NnlTVZ5n2iBl",
        "outputId": "f7d6dbbb-4533-41e2-c801-5d7e02e08c12"
      },
      "execution_count": 101,
      "outputs": [
        {
          "output_type": "execute_result",
          "data": {
            "text/plain": [
              "array([[ 1.00000000e+00, -1.39716700e-17, -3.67157851e-17],\n",
              "       [-1.39716700e-17,  1.00000000e+00,  1.34164607e-16],\n",
              "       [-3.67157851e-17,  1.34164607e-16,  1.00000000e+00]])"
            ]
          },
          "metadata": {},
          "execution_count": 101
        }
      ]
    },
    {
      "cell_type": "code",
      "source": [
        "inv_r = inv(r)\n",
        "inv_r"
      ],
      "metadata": {
        "colab": {
          "base_uri": "https://localhost:8080/"
        },
        "id": "fLHbftzI2khl",
        "outputId": "3e64ceaa-05ae-4021-f204-0a2183ff3db7"
      },
      "execution_count": 102,
      "outputs": [
        {
          "output_type": "execute_result",
          "data": {
            "text/plain": [
              "array([[-0.08574929, -0.02481458,  0.04418682],\n",
              "       [ 0.        ,  0.09925833, -0.03037746],\n",
              "       [ 0.        ,  0.        , -0.1081864 ]])"
            ]
          },
          "metadata": {},
          "execution_count": 102
        }
      ]
    },
    {
      "cell_type": "code",
      "source": [
        "r @ inv_r"
      ],
      "metadata": {
        "colab": {
          "base_uri": "https://localhost:8080/"
        },
        "id": "ybdjWKRu2tzg",
        "outputId": "a5073621-7819-4085-f2e1-cc765fc7321b"
      },
      "execution_count": 103,
      "outputs": [
        {
          "output_type": "execute_result",
          "data": {
            "text/plain": [
              "array([[ 1.00000000e+00,  1.06305476e-17, -1.08759922e-17],\n",
              "       [ 0.00000000e+00,  1.00000000e+00,  2.62830867e-17],\n",
              "       [ 0.00000000e+00,  0.00000000e+00,  1.00000000e+00]])"
            ]
          },
          "metadata": {},
          "execution_count": 103
        }
      ]
    },
    {
      "cell_type": "code",
      "source": [
        "A = np.array(np.random.randint(-20, 20, size=(8, 4)))\n",
        "A"
      ],
      "metadata": {
        "colab": {
          "base_uri": "https://localhost:8080/"
        },
        "id": "_WzFD7L82vyA",
        "outputId": "143316b6-1925-4278-b76c-8679d05cd5f7"
      },
      "execution_count": 105,
      "outputs": [
        {
          "output_type": "execute_result",
          "data": {
            "text/plain": [
              "array([[ -6,  13,  15,  18],\n",
              "       [  8,   6,  13,  12],\n",
              "       [ 19,   7, -10,  10],\n",
              "       [-13, -11,   7,   1],\n",
              "       [ 16, -12,  -6,   9],\n",
              "       [-19,   4,   2,  -4],\n",
              "       [ 16,  -4,  19,  10],\n",
              "       [-13, -19,  -6,   6]])"
            ]
          },
          "metadata": {},
          "execution_count": 105
        }
      ]
    },
    {
      "cell_type": "code",
      "source": [
        "q, r = qr(A)"
      ],
      "metadata": {
        "id": "7HWXAlov24bY"
      },
      "execution_count": 106,
      "outputs": []
    },
    {
      "cell_type": "code",
      "source": [
        "q  # square matrix"
      ],
      "metadata": {
        "colab": {
          "base_uri": "https://localhost:8080/"
        },
        "id": "pa01O5kI28yC",
        "outputId": "18ba42a3-95bc-4a94-d25e-98c942fbde86"
      },
      "execution_count": 109,
      "outputs": [
        {
          "output_type": "execute_result",
          "data": {
            "text/plain": [
              "array([[-0.1467348 , -0.45347508,  0.37107911, -0.63593599,  0.2358657 ,\n",
              "        -0.32839599,  0.15280147, -0.20949969],\n",
              "       [ 0.1956464 , -0.17466241,  0.38591844, -0.19084938, -0.13928879,\n",
              "         0.26558736, -0.68605655,  0.43040377],\n",
              "       [ 0.46466019, -0.17268488, -0.37085535, -0.43903682, -0.519066  ,\n",
              "         0.29152657,  0.20136468, -0.17034917],\n",
              "       [-0.31792539,  0.32557441,  0.31535073, -0.03276492, -0.43216285,\n",
              "         0.09006673, -0.27257535, -0.65056211],\n",
              "       [ 0.39129279,  0.45223662, -0.06969509, -0.28066584,  0.62646926,\n",
              "         0.21133277, -0.19248988, -0.29079828],\n",
              "       [-0.46466019, -0.19469745,  0.00614338, -0.04340409,  0.21233942,\n",
              "         0.80846361,  0.21280996,  0.01651177],\n",
              "       [ 0.39129279,  0.18504947,  0.68534214,  0.16984763, -0.07926808,\n",
              "         0.15378548,  0.52733302,  0.0780452 ],\n",
              "       [-0.31792539,  0.59276156, -0.04240844, -0.50579603, -0.15791318,\n",
              "        -0.08120803,  0.17524988,  0.47716375]])"
            ]
          },
          "metadata": {},
          "execution_count": 109
        }
      ]
    },
    {
      "cell_type": "code",
      "source": [
        "r  # upper triangular matrix"
      ],
      "metadata": {
        "colab": {
          "base_uri": "https://localhost:8080/"
        },
        "id": "hlpCOAs729Ys",
        "outputId": "a2991879-bceb-425f-9cd1-b413fdb84c46"
      },
      "execution_count": 110,
      "outputs": [
        {
          "output_type": "execute_result",
          "data": {
            "text/plain": [
              "array([[ 40.8900966 ,   3.9373837 ,  -0.46466019,  11.42085832],\n",
              "       [  0.        , -29.94155991,  -8.2103119 ,  -1.40379121],\n",
              "       [  0.        ,   0.        ,  30.20554369,  13.86438393],\n",
              "       [  0.        ,   0.        ,   0.        , -21.84884948],\n",
              "       [  0.        ,   0.        ,   0.        ,   0.        ],\n",
              "       [  0.        ,   0.        ,   0.        ,   0.        ],\n",
              "       [  0.        ,   0.        ,   0.        ,   0.        ],\n",
              "       [  0.        ,   0.        ,   0.        ,   0.        ]])"
            ]
          },
          "metadata": {},
          "execution_count": 110
        }
      ]
    },
    {
      "cell_type": "code",
      "source": [
        "np.allclose(q @ r, A)"
      ],
      "metadata": {
        "colab": {
          "base_uri": "https://localhost:8080/"
        },
        "id": "MRz0noqK2935",
        "outputId": "8b79e3ba-b070-4da6-e58c-7664c16f4adf"
      },
      "execution_count": 111,
      "outputs": [
        {
          "output_type": "execute_result",
          "data": {
            "text/plain": [
              "True"
            ]
          },
          "metadata": {},
          "execution_count": 111
        }
      ]
    },
    {
      "cell_type": "code",
      "source": [
        "A = np.matrix([[5, 3, 3],\n",
        "               [3, 5, 2],\n",
        "               [3, 2, 5]])\n",
        "A"
      ],
      "metadata": {
        "colab": {
          "base_uri": "https://localhost:8080/"
        },
        "id": "BJfyjw8b3MaR",
        "outputId": "10f4bedc-c780-4c9e-f55b-bc16bab44ed5"
      },
      "execution_count": 112,
      "outputs": [
        {
          "output_type": "execute_result",
          "data": {
            "text/plain": [
              "matrix([[5, 3, 3],\n",
              "        [3, 5, 2],\n",
              "        [3, 2, 5]])"
            ]
          },
          "metadata": {},
          "execution_count": 112
        }
      ]
    },
    {
      "cell_type": "code",
      "source": [
        "AT = A.T\n",
        "AT"
      ],
      "metadata": {
        "colab": {
          "base_uri": "https://localhost:8080/"
        },
        "id": "3CrArPbY3XSh",
        "outputId": "e1667e1c-ca37-4f5d-a46b-5d370a3755c7"
      },
      "execution_count": 114,
      "outputs": [
        {
          "output_type": "execute_result",
          "data": {
            "text/plain": [
              "matrix([[5, 3, 3],\n",
              "        [3, 5, 2],\n",
              "        [3, 2, 5]])"
            ]
          },
          "metadata": {},
          "execution_count": 114
        }
      ]
    },
    {
      "cell_type": "code",
      "source": [
        "np.allclose(AT, A)"
      ],
      "metadata": {
        "colab": {
          "base_uri": "https://localhost:8080/"
        },
        "id": "hnuzfob-3eny",
        "outputId": "09c1038b-26ab-4583-a53e-f457a330fb8a"
      },
      "execution_count": 115,
      "outputs": [
        {
          "output_type": "execute_result",
          "data": {
            "text/plain": [
              "True"
            ]
          },
          "metadata": {},
          "execution_count": 115
        }
      ]
    },
    {
      "cell_type": "code",
      "source": [
        "u = cholesky(A)\n",
        "u"
      ],
      "metadata": {
        "colab": {
          "base_uri": "https://localhost:8080/"
        },
        "id": "hPsId-T_3iLg",
        "outputId": "d13121ef-0ab9-4b96-f67b-52cdab0581fb"
      },
      "execution_count": 116,
      "outputs": [
        {
          "output_type": "execute_result",
          "data": {
            "text/plain": [
              "array([[2.23606798, 1.34164079, 1.34164079],\n",
              "       [0.        , 1.78885438, 0.1118034 ],\n",
              "       [0.        , 0.        , 1.78535711]])"
            ]
          },
          "metadata": {},
          "execution_count": 116
        }
      ]
    },
    {
      "cell_type": "code",
      "source": [
        "u.T @ u"
      ],
      "metadata": {
        "colab": {
          "base_uri": "https://localhost:8080/"
        },
        "id": "Z4Ge9Toh3ove",
        "outputId": "86b0f5c3-72d7-4946-c0c9-721528c8245e"
      },
      "execution_count": 117,
      "outputs": [
        {
          "output_type": "execute_result",
          "data": {
            "text/plain": [
              "array([[5., 3., 3.],\n",
              "       [3., 5., 2.],\n",
              "       [3., 2., 5.]])"
            ]
          },
          "metadata": {},
          "execution_count": 117
        }
      ]
    },
    {
      "cell_type": "code",
      "source": [
        "A"
      ],
      "metadata": {
        "colab": {
          "base_uri": "https://localhost:8080/"
        },
        "id": "gezV-C8x3vLq",
        "outputId": "0e0f143a-c7df-45ca-da2b-c98def95ab21"
      },
      "execution_count": 118,
      "outputs": [
        {
          "output_type": "execute_result",
          "data": {
            "text/plain": [
              "matrix([[5, 3, 3],\n",
              "        [3, 5, 2],\n",
              "        [3, 2, 5]])"
            ]
          },
          "metadata": {},
          "execution_count": 118
        }
      ]
    },
    {
      "cell_type": "code",
      "source": [
        "np.allclose(u.T@u, A)"
      ],
      "metadata": {
        "colab": {
          "base_uri": "https://localhost:8080/"
        },
        "id": "fAHHV2513waX",
        "outputId": "cc294ef9-5f14-4248-af58-10ca5d77d30f"
      },
      "execution_count": 119,
      "outputs": [
        {
          "output_type": "execute_result",
          "data": {
            "text/plain": [
              "True"
            ]
          },
          "metadata": {},
          "execution_count": 119
        }
      ]
    },
    {
      "cell_type": "code",
      "source": [
        "l = cholesky(A, lower=True)\n",
        "l"
      ],
      "metadata": {
        "colab": {
          "base_uri": "https://localhost:8080/"
        },
        "id": "CFBIAko03yv-",
        "outputId": "3f19d562-b119-4805-c463-88d77c8cc28d"
      },
      "execution_count": 120,
      "outputs": [
        {
          "output_type": "execute_result",
          "data": {
            "text/plain": [
              "array([[2.23606798, 0.        , 0.        ],\n",
              "       [1.34164079, 1.78885438, 0.        ],\n",
              "       [1.34164079, 0.1118034 , 1.78535711]])"
            ]
          },
          "metadata": {},
          "execution_count": 120
        }
      ]
    },
    {
      "cell_type": "code",
      "source": [
        "l @ l.T"
      ],
      "metadata": {
        "colab": {
          "base_uri": "https://localhost:8080/"
        },
        "id": "SDxM0xBb31fm",
        "outputId": "202eca13-6741-4d4a-99f4-6a72ec781ec1"
      },
      "execution_count": 121,
      "outputs": [
        {
          "output_type": "execute_result",
          "data": {
            "text/plain": [
              "array([[5., 3., 3.],\n",
              "       [3., 5., 2.],\n",
              "       [3., 2., 5.]])"
            ]
          },
          "metadata": {},
          "execution_count": 121
        }
      ]
    },
    {
      "cell_type": "code",
      "source": [
        "np.allclose(l@l.T, A)"
      ],
      "metadata": {
        "colab": {
          "base_uri": "https://localhost:8080/"
        },
        "id": "YPh1AJLO32zu",
        "outputId": "7c489b0b-4712-4cc8-c3a0-fa776028529d"
      },
      "execution_count": 122,
      "outputs": [
        {
          "output_type": "execute_result",
          "data": {
            "text/plain": [
              "True"
            ]
          },
          "metadata": {},
          "execution_count": 122
        }
      ]
    },
    {
      "cell_type": "code",
      "source": [
        ""
      ],
      "metadata": {
        "id": "go2QLO6E34ZL"
      },
      "execution_count": null,
      "outputs": []
    }
  ]
}