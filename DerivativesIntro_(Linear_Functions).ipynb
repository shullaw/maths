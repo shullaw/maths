{
  "nbformat": 4,
  "nbformat_minor": 0,
  "metadata": {
    "colab": {
      "name": "DerivativesIntro (Linear Functions).ipynb",
      "provenance": [],
      "authorship_tag": "ABX9TyNij9vUqN4qLBuV+m7X7qeV",
      "include_colab_link": true
    },
    "kernelspec": {
      "name": "python3",
      "display_name": "Python 3"
    },
    "language_info": {
      "name": "python"
    }
  },
  "cells": [
    {
      "cell_type": "markdown",
      "metadata": {
        "id": "view-in-github",
        "colab_type": "text"
      },
      "source": [
        "<a href=\"https://colab.research.google.com/github/shullaw/maths/blob/main/DerivativesIntro_(Linear_Functions).ipynb\" target=\"_parent\"><img src=\"https://colab.research.google.com/assets/colab-badge.svg\" alt=\"Open In Colab\"/></a>"
      ]
    },
    {
      "cell_type": "code",
      "execution_count": 3,
      "metadata": {
        "id": "x_Ff0Qsm8OtQ"
      },
      "outputs": [],
      "source": [
        "import numpy as np\n",
        "import matplotlib\n",
        "import matplotlib.pyplot as plt\n",
        "import sympy as sp"
      ]
    },
    {
      "cell_type": "code",
      "source": [
        "def get_derivative(f, x):\n",
        "  h = .0001\n",
        "  return (f(x+h) - f(x)) / h"
      ],
      "metadata": {
        "id": "61e0TX3F82BV"
      },
      "execution_count": 4,
      "outputs": []
    },
    {
      "cell_type": "code",
      "source": [
        "def const_func(x):\n",
        "  return 15"
      ],
      "metadata": {
        "id": "Cqi9_Ukb9G8R"
      },
      "execution_count": 5,
      "outputs": []
    },
    {
      "cell_type": "code",
      "source": [
        "get_derivative(const_func, 10)"
      ],
      "metadata": {
        "colab": {
          "base_uri": "https://localhost:8080/"
        },
        "id": "QMm9Jt-O9KEi",
        "outputId": "9e227343-310d-4930-eeac-e92fa88962cd"
      },
      "execution_count": 6,
      "outputs": [
        {
          "output_type": "execute_result",
          "data": {
            "text/plain": [
              "0.0"
            ]
          },
          "metadata": {},
          "execution_count": 6
        }
      ]
    },
    {
      "cell_type": "code",
      "source": [
        "get_derivative(const_func, 1)"
      ],
      "metadata": {
        "colab": {
          "base_uri": "https://localhost:8080/"
        },
        "id": "dCpvvfGp9Mm2",
        "outputId": "6b0af97d-de1c-4d8d-c0f3-e5c452b550b8"
      },
      "execution_count": 7,
      "outputs": [
        {
          "output_type": "execute_result",
          "data": {
            "text/plain": [
              "0.0"
            ]
          },
          "metadata": {},
          "execution_count": 7
        }
      ]
    },
    {
      "cell_type": "code",
      "source": [
        "get_derivative(const_func, 1000)"
      ],
      "metadata": {
        "colab": {
          "base_uri": "https://localhost:8080/"
        },
        "id": "A57e91Q39WmP",
        "outputId": "a6553980-aea6-45ab-f904-275b99a765e2"
      },
      "execution_count": 8,
      "outputs": [
        {
          "output_type": "execute_result",
          "data": {
            "text/plain": [
              "0.0"
            ]
          },
          "metadata": {},
          "execution_count": 8
        }
      ]
    },
    {
      "cell_type": "code",
      "source": [
        "x = np.linspace(-10, 10)  # evenly spaced\n",
        "x"
      ],
      "metadata": {
        "colab": {
          "base_uri": "https://localhost:8080/"
        },
        "id": "ozzCqxOn9Z86",
        "outputId": "31eae89e-7134-4ec5-ce64-9800c2d43fa3"
      },
      "execution_count": 21,
      "outputs": [
        {
          "output_type": "execute_result",
          "data": {
            "text/plain": [
              "array([-10.        ,  -9.59183673,  -9.18367347,  -8.7755102 ,\n",
              "        -8.36734694,  -7.95918367,  -7.55102041,  -7.14285714,\n",
              "        -6.73469388,  -6.32653061,  -5.91836735,  -5.51020408,\n",
              "        -5.10204082,  -4.69387755,  -4.28571429,  -3.87755102,\n",
              "        -3.46938776,  -3.06122449,  -2.65306122,  -2.24489796,\n",
              "        -1.83673469,  -1.42857143,  -1.02040816,  -0.6122449 ,\n",
              "        -0.20408163,   0.20408163,   0.6122449 ,   1.02040816,\n",
              "         1.42857143,   1.83673469,   2.24489796,   2.65306122,\n",
              "         3.06122449,   3.46938776,   3.87755102,   4.28571429,\n",
              "         4.69387755,   5.10204082,   5.51020408,   5.91836735,\n",
              "         6.32653061,   6.73469388,   7.14285714,   7.55102041,\n",
              "         7.95918367,   8.36734694,   8.7755102 ,   9.18367347,\n",
              "         9.59183673,  10.        ])"
            ]
          },
          "metadata": {},
          "execution_count": 21
        }
      ]
    },
    {
      "cell_type": "code",
      "source": [
        "const_func(x)"
      ],
      "metadata": {
        "colab": {
          "base_uri": "https://localhost:8080/"
        },
        "id": "xcIY17xD9jVi",
        "outputId": "3d6593cb-a635-4a69-aff9-e1782e693f98"
      },
      "execution_count": 10,
      "outputs": [
        {
          "output_type": "execute_result",
          "data": {
            "text/plain": [
              "15"
            ]
          },
          "metadata": {},
          "execution_count": 10
        }
      ]
    },
    {
      "cell_type": "code",
      "source": [
        "@np.vectorize  # forces function to be applied to each element in np vector\n",
        "def const_func(x):\n",
        "  return 15"
      ],
      "metadata": {
        "id": "GbLE6VMT9oKH"
      },
      "execution_count": 11,
      "outputs": []
    },
    {
      "cell_type": "code",
      "source": [
        "const_func(x)"
      ],
      "metadata": {
        "colab": {
          "base_uri": "https://localhost:8080/"
        },
        "id": "povFp5nO-Jie",
        "outputId": "61ba73cb-7cb8-4876-ce5f-86e776d52edd"
      },
      "execution_count": 12,
      "outputs": [
        {
          "output_type": "execute_result",
          "data": {
            "text/plain": [
              "array([15, 15, 15, 15, 15, 15, 15, 15, 15, 15, 15, 15, 15, 15, 15, 15, 15,\n",
              "       15, 15, 15, 15, 15, 15, 15, 15, 15, 15, 15, 15, 15, 15, 15, 15, 15,\n",
              "       15, 15, 15, 15, 15, 15, 15, 15, 15, 15, 15, 15, 15, 15, 15, 15])"
            ]
          },
          "metadata": {},
          "execution_count": 12
        }
      ]
    },
    {
      "cell_type": "code",
      "source": [
        "plt.figure(figsize=(12,6))\n",
        "\n",
        "plt.plot(x, const_func(x),\n",
        "          color='purple',\n",
        "          lw=3,\n",
        "          label='Constant function')\n",
        "\n",
        "plt.plot(x, get_derivative(const_func, x),\n",
        "         color='green',\n",
        "         lw=3,\n",
        "         label='Derivative of constant function')\n",
        "\n",
        "plt.legend(loc='center left')\n",
        "plt.grid(True)\n"
      ],
      "metadata": {
        "colab": {
          "base_uri": "https://localhost:8080/",
          "height": 374
        },
        "id": "UbcYmpDk-Ku8",
        "outputId": "59995ce0-a30f-4a49-b386-ab8879675ab0"
      },
      "execution_count": 23,
      "outputs": [
        {
          "output_type": "display_data",
          "data": {
            "image/png": "[encoded data removed]",
            "text/plain": [
              "<Figure size 864x432 with 1 Axes>"
            ]
          },
          "metadata": {
            "needs_background": "light"
          }
        }
      ]
    },
    {
      "cell_type": "code",
      "source": [
        "@np.vectorize\n",
        "def func(x):\n",
        "  return 2*x"
      ],
      "metadata": {
        "id": "4swl2uyJ-oST"
      },
      "execution_count": 24,
      "outputs": []
    },
    {
      "cell_type": "code",
      "source": [
        "get_derivative(func, 10)"
      ],
      "metadata": {
        "colab": {
          "base_uri": "https://localhost:8080/"
        },
        "id": "fK6oJl0u-69W",
        "outputId": "cd3f8d8d-da20-4ed0-bb3f-739bfdf56f17"
      },
      "execution_count": 15,
      "outputs": [
        {
          "output_type": "execute_result",
          "data": {
            "text/plain": [
              "1.9999999999953388"
            ]
          },
          "metadata": {},
          "execution_count": 15
        }
      ]
    },
    {
      "cell_type": "code",
      "source": [
        "get_derivative(func, 100)"
      ],
      "metadata": {
        "colab": {
          "base_uri": "https://localhost:8080/"
        },
        "id": "_NyhzOvO-9L1",
        "outputId": "df406156-c35a-477d-adeb-4e4ff7afdb7c"
      },
      "execution_count": 16,
      "outputs": [
        {
          "output_type": "execute_result",
          "data": {
            "text/plain": [
              "2.000000000066393"
            ]
          },
          "metadata": {},
          "execution_count": 16
        }
      ]
    },
    {
      "cell_type": "code",
      "source": [
        "get_derivative(func, 1000)"
      ],
      "metadata": {
        "colab": {
          "base_uri": "https://localhost:8080/"
        },
        "id": "83coyWqE_AwY",
        "outputId": "9c591e22-64f3-4ec1-c7c3-6ca10d1b6c2d"
      },
      "execution_count": 17,
      "outputs": [
        {
          "output_type": "execute_result",
          "data": {
            "text/plain": [
              "1.999999999497959"
            ]
          },
          "metadata": {},
          "execution_count": 17
        }
      ]
    },
    {
      "cell_type": "code",
      "source": [
        "x = np.linspace(-10, 10)\n",
        "x"
      ],
      "metadata": {
        "colab": {
          "base_uri": "https://localhost:8080/"
        },
        "id": "fI5oS8f9_C7h",
        "outputId": "64835bfa-8dc8-4f51-aa75-2b12d8f2ca91"
      },
      "execution_count": 25,
      "outputs": [
        {
          "output_type": "execute_result",
          "data": {
            "text/plain": [
              "array([-10.        ,  -9.59183673,  -9.18367347,  -8.7755102 ,\n",
              "        -8.36734694,  -7.95918367,  -7.55102041,  -7.14285714,\n",
              "        -6.73469388,  -6.32653061,  -5.91836735,  -5.51020408,\n",
              "        -5.10204082,  -4.69387755,  -4.28571429,  -3.87755102,\n",
              "        -3.46938776,  -3.06122449,  -2.65306122,  -2.24489796,\n",
              "        -1.83673469,  -1.42857143,  -1.02040816,  -0.6122449 ,\n",
              "        -0.20408163,   0.20408163,   0.6122449 ,   1.02040816,\n",
              "         1.42857143,   1.83673469,   2.24489796,   2.65306122,\n",
              "         3.06122449,   3.46938776,   3.87755102,   4.28571429,\n",
              "         4.69387755,   5.10204082,   5.51020408,   5.91836735,\n",
              "         6.32653061,   6.73469388,   7.14285714,   7.55102041,\n",
              "         7.95918367,   8.36734694,   8.7755102 ,   9.18367347,\n",
              "         9.59183673,  10.        ])"
            ]
          },
          "metadata": {},
          "execution_count": 25
        }
      ]
    },
    {
      "cell_type": "code",
      "source": [
        "plt.figure(figsize=(12,6))\n",
        "\n",
        "plt.plot(x, func(x),\n",
        "          color='purple',\n",
        "          lw=3,\n",
        "          label='Constant function')\n",
        "\n",
        "plt.plot(x, get_derivative(func, x),\n",
        "         color='green',\n",
        "         lw=3,\n",
        "         label='Derivative of constant function')\n",
        "\n",
        "plt.gca().spines['left'].set_position('zero')\n",
        "plt.gca().spines['bottom'].set_position('zero')\n",
        "\n",
        "plt.legend(loc='center left')\n",
        "plt.grid(True)"
      ],
      "metadata": {
        "colab": {
          "base_uri": "https://localhost:8080/",
          "height": 357
        },
        "id": "OaIFac1o_M-8",
        "outputId": "31b4e7cf-2dc8-4cbc-ac4e-de678b70ff9a"
      },
      "execution_count": 27,
      "outputs": [
        {
          "output_type": "display_data",
          "data": {
            "image/png": "[encoded data removed]",
            "text/plain": [
              "<Figure size 864x432 with 1 Axes>"
            ]
          },
          "metadata": {
            "needs_background": "light"
          }
        }
      ]
    },
    {
      "cell_type": "markdown",
      "source": [
        "Library implementation"
      ],
      "metadata": {
        "id": "Ulld1bXVAquB"
      }
    },
    {
      "cell_type": "code",
      "source": [
        "def get_derivative(f:func, x:np.array, method:str='central', h:float=.0001):\n",
        "  \n",
        "  if method == 'central':\n",
        "    return (f(x + h) - f(x - h)) / (2*h)\n",
        "\n",
        "  elif method == 'forward':\n",
        "    return (f(x + h) - f(x)) / h\n",
        "\n",
        "  elif method == 'backward':\n",
        "    return (f(x) - f(x - h)) / h\n",
        "\n",
        "  else:\n",
        "    raise ValueError(\"Method must be 'central', 'forward' or 'backward'.\")"
      ],
      "metadata": {
        "id": "uQ5JIV_MAOnf"
      },
      "execution_count": 29,
      "outputs": []
    },
    {
      "cell_type": "code",
      "source": [
        "get_derivative(func, 10)"
      ],
      "metadata": {
        "colab": {
          "base_uri": "https://localhost:8080/"
        },
        "id": "UskdmYVdBxGJ",
        "outputId": "027055f6-e7d0-4050-e6ae-9ec7defaac3a"
      },
      "execution_count": 30,
      "outputs": [
        {
          "output_type": "execute_result",
          "data": {
            "text/plain": [
              "1.9999999999953388"
            ]
          },
          "metadata": {},
          "execution_count": 30
        }
      ]
    },
    {
      "cell_type": "code",
      "source": [
        "get_derivative(func, 10, 'forward')"
      ],
      "metadata": {
        "colab": {
          "base_uri": "https://localhost:8080/"
        },
        "id": "-URHgfOhB2gd",
        "outputId": "a86793a0-b5e2-4ba4-a838-ccf28e249924"
      },
      "execution_count": 31,
      "outputs": [
        {
          "output_type": "execute_result",
          "data": {
            "text/plain": [
              "1.9999999999953388"
            ]
          },
          "metadata": {},
          "execution_count": 31
        }
      ]
    },
    {
      "cell_type": "code",
      "source": [
        "get_derivative(func, 10, 'backward')"
      ],
      "metadata": {
        "colab": {
          "base_uri": "https://localhost:8080/"
        },
        "id": "MT8nPjMEB7nM",
        "outputId": "c39d820e-7de8-42af-c3a2-1d6af4485a06"
      },
      "execution_count": 32,
      "outputs": [
        {
          "output_type": "execute_result",
          "data": {
            "text/plain": [
              "1.9999999999953388"
            ]
          },
          "metadata": {},
          "execution_count": 32
        }
      ]
    },
    {
      "cell_type": "markdown",
      "source": [
        "These all produce the same output because `func` is linear."
      ],
      "metadata": {
        "id": "nvIP1Sr6CDRx"
      }
    },
    {
      "cell_type": "code",
      "source": [
        "from scipy.misc import derivative"
      ],
      "metadata": {
        "id": "MJj1Vyw4B-YR"
      },
      "execution_count": 33,
      "outputs": []
    },
    {
      "cell_type": "code",
      "source": [
        "@np.vectorize\n",
        "def func(x):\n",
        "  return 2*x"
      ],
      "metadata": {
        "id": "0JH6CVc5CQD-"
      },
      "execution_count": 34,
      "outputs": []
    },
    {
      "cell_type": "code",
      "source": [
        "derivative(func, 10)"
      ],
      "metadata": {
        "colab": {
          "base_uri": "https://localhost:8080/"
        },
        "id": "Yo1-oklKCToi",
        "outputId": "ac725559-a406-4b98-8d71-f60ce1a646cc"
      },
      "execution_count": 35,
      "outputs": [
        {
          "output_type": "execute_result",
          "data": {
            "text/plain": [
              "2.0"
            ]
          },
          "metadata": {},
          "execution_count": 35
        }
      ]
    },
    {
      "cell_type": "code",
      "source": [
        "plt.figure(figsize=(12,6))\n",
        "\n",
        "plt.plot(x, func(x),\n",
        "          color='purple',\n",
        "          lw=3,\n",
        "          label='Constant function')\n",
        "\n",
        "plt.plot(x, get_derivative(func, x),\n",
        "         color='green',\n",
        "         lw=3,\n",
        "         label='Derivative of constant function')\n",
        "\n",
        "plt.gca().spines['left'].set_position('zero')\n",
        "plt.gca().spines['bottom'].set_position('zero')\n",
        "\n",
        "plt.legend(loc='center left')\n",
        "plt.grid(True)"
      ],
      "metadata": {
        "colab": {
          "base_uri": "https://localhost:8080/",
          "height": 357
        },
        "id": "YZAI-N7WCU4b",
        "outputId": "fadc7958-7376-4fb5-ffe2-7bacd149db0f"
      },
      "execution_count": 36,
      "outputs": [
        {
          "output_type": "display_data",
          "data": {
            "image/png": "[encoded data removed]",
            "text/plain": [
              "<Figure size 864x432 with 1 Axes>"
            ]
          },
          "metadata": {
            "needs_background": "light"
          }
        }
      ]
    },
    {
      "cell_type": "code",
      "source": [
        "x = sp.Symbol('x')\n",
        "x"
      ],
      "metadata": {
        "colab": {
          "base_uri": "https://localhost:8080/",
          "height": 39
        },
        "id": "JnxwLuEiCcrg",
        "outputId": "6797ce8b-5d58-440f-e7b8-f205d8e5d5e1"
      },
      "execution_count": 37,
      "outputs": [
        {
          "output_type": "execute_result",
          "data": {
            "text/latex": "$\\displaystyle x$",
            "text/plain": [
              "x"
            ]
          },
          "metadata": {},
          "execution_count": 37
        }
      ]
    },
    {
      "cell_type": "code",
      "source": [
        "eq = 2*x\n",
        "eq"
      ],
      "metadata": {
        "colab": {
          "base_uri": "https://localhost:8080/",
          "height": 39
        },
        "id": "G2exuyTeCk32",
        "outputId": "d90eddd7-1cfd-471c-d948-a8daaabe70ab"
      },
      "execution_count": 38,
      "outputs": [
        {
          "output_type": "execute_result",
          "data": {
            "text/latex": "$\\displaystyle 2 x$",
            "text/plain": [
              "2*x"
            ]
          },
          "metadata": {},
          "execution_count": 38
        }
      ]
    },
    {
      "cell_type": "code",
      "source": [
        "sp.Derivative(eq, x)"
      ],
      "metadata": {
        "colab": {
          "base_uri": "https://localhost:8080/",
          "height": 52
        },
        "id": "roMVT38TCoWk",
        "outputId": "1031a8b7-f565-4922-e98a-3f85592885e5"
      },
      "execution_count": 39,
      "outputs": [
        {
          "output_type": "execute_result",
          "data": {
            "text/latex": "$\\displaystyle \\frac{d}{d x} 2 x$",
            "text/plain": [
              "Derivative(2*x, x)"
            ]
          },
          "metadata": {},
          "execution_count": 39
        }
      ]
    },
    {
      "cell_type": "code",
      "source": [
        "sp.Derivative(eq, x).doit()  # evaluated recursively"
      ],
      "metadata": {
        "colab": {
          "base_uri": "https://localhost:8080/",
          "height": 38
        },
        "id": "taUehisxCsPh",
        "outputId": "3c267619-b4da-43bc-a9fb-4f15ea61754e"
      },
      "execution_count": 40,
      "outputs": [
        {
          "output_type": "execute_result",
          "data": {
            "text/latex": "$\\displaystyle 2$",
            "text/plain": [
              "2"
            ]
          },
          "metadata": {},
          "execution_count": 40
        }
      ]
    },
    {
      "cell_type": "code",
      "source": [
        "sp.Derivative(eq, x).doit().subs(x, 10)"
      ],
      "metadata": {
        "colab": {
          "base_uri": "https://localhost:8080/",
          "height": 38
        },
        "id": "IOzXMBMxC3ht",
        "outputId": "2bfd8ede-a785-4a1f-8280-e2222b23da99"
      },
      "execution_count": 41,
      "outputs": [
        {
          "output_type": "execute_result",
          "data": {
            "text/latex": "$\\displaystyle 2$",
            "text/plain": [
              "2"
            ]
          },
          "metadata": {},
          "execution_count": 41
        }
      ]
    },
    {
      "cell_type": "code",
      "source": [
        "sp.Derivative(eq, x).doit().subs(x, 1000)"
      ],
      "metadata": {
        "colab": {
          "base_uri": "https://localhost:8080/",
          "height": 38
        },
        "id": "uAsHWCJWC_Q0",
        "outputId": "0006cac4-8552-4d7c-f34f-db2e63e2dee7"
      },
      "execution_count": 42,
      "outputs": [
        {
          "output_type": "execute_result",
          "data": {
            "text/latex": "$\\displaystyle 2$",
            "text/plain": [
              "2"
            ]
          },
          "metadata": {},
          "execution_count": 42
        }
      ]
    },
    {
      "cell_type": "code",
      "source": [
        "sp.diff(eq, x)  # differentiate, does not require .doit()"
      ],
      "metadata": {
        "colab": {
          "base_uri": "https://localhost:8080/",
          "height": 38
        },
        "id": "P0Ouje24DA5Z",
        "outputId": "fc30df26-2215-4bed-dd6f-6477bc529a34"
      },
      "execution_count": 45,
      "outputs": [
        {
          "output_type": "execute_result",
          "data": {
            "text/latex": "$\\displaystyle 2$",
            "text/plain": [
              "2"
            ]
          },
          "metadata": {},
          "execution_count": 45
        }
      ]
    },
    {
      "cell_type": "code",
      "source": [
        "sp.diff(eq, x).subs(x, 10)"
      ],
      "metadata": {
        "colab": {
          "base_uri": "https://localhost:8080/",
          "height": 38
        },
        "id": "8ew8Smj3DF41",
        "outputId": "191e00a5-1068-4de1-f736-52ace3eb0bdd"
      },
      "execution_count": 44,
      "outputs": [
        {
          "output_type": "execute_result",
          "data": {
            "text/latex": "$\\displaystyle 2$",
            "text/plain": [
              "2"
            ]
          },
          "metadata": {},
          "execution_count": 44
        }
      ]
    },
    {
      "cell_type": "code",
      "source": [
        ""
      ],
      "metadata": {
        "id": "1VlGV2JNDId4"
      },
      "execution_count": null,
      "outputs": []
    }
  ]
}