{
  "nbformat": 4,
  "nbformat_minor": 0,
  "metadata": {
    "colab": {
      "name": "notes_OverviewNeuralNetworks (with Partial Derivatives).ipynb",
      "provenance": [],
      "authorship_tag": "ABX9TyML/DuHyC+3b0LdVNhlXiEk",
      "include_colab_link": true
    },
    "kernelspec": {
      "name": "python3",
      "display_name": "Python 3"
    },
    "language_info": {
      "name": "python"
    }
  },
  "cells": [
    {
      "cell_type": "markdown",
      "metadata": {
        "id": "view-in-github",
        "colab_type": "text"
      },
      "source": [
        "<a href=\"https://colab.research.google.com/github/shullaw/maths/blob/main/notes_OverviewNeuralNetworks_(with_Partial_Derivatives).ipynb\" target=\"_parent\"><img src=\"https://colab.research.google.com/assets/colab-badge.svg\" alt=\"Open In Colab\"/></a>"
      ]
    },
    {
      "cell_type": "markdown",
      "source": [
        "$Wx + b$ is passed through activation function\n",
        "\n",
        "$\\phi(Wx + b)$ = output of Neuron\n",
        "\n",
        "  - Weights (and Biases) are model parameters (variables)\n",
        "\n",
        "  - Parameters act on model input\n",
        "\n",
        "  - Network is composed of complex multivariable functions\n",
        "\n",
        "  - Objective is to find optimal values of paramters\n",
        "\n",
        "(Objective Function) Loss = prediction - actual \n",
        "\n",
        "  - (in training)\n",
        "\n",
        "Gradients\n",
        "  - vectors that store partial derivatives of multivariate functions\n",
        "  - calculate slope at specific point\n",
        "  - isolate each variable to compute slope\n",
        "  - calculates impact of variable on network\n",
        "  - iterate through each variable and compute derivative\n",
        "  - each iteration produces a partial derivative held in gradient vector\n",
        "\n",
        "1.) Minimize Loss\n",
        "\n",
        "2.) Update Model Parameters\n",
        "\n",
        "3.) Repeat until convergence"
      ],
      "metadata": {
        "id": "OJJSFJrQjRff"
      }
    },
    {
      "cell_type": "code",
      "source": [
        ""
      ],
      "metadata": {
        "id": "NE_FHRIljkHB"
      },
      "execution_count": null,
      "outputs": []
    }
  ]
}
