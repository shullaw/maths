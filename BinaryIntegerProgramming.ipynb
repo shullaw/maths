{
  "nbformat": 4,
  "nbformat_minor": 0,
  "metadata": {
    "colab": {
      "name": "BinaryIntegerProgramming.ipynb",
      "provenance": [],
      "collapsed_sections": [],
      "authorship_tag": "ABX9TyN0Lqhq6k1r9R5EZbcHwOfL",
      "include_colab_link": true
    },
    "kernelspec": {
      "name": "python3",
      "display_name": "Python 3"
    },
    "language_info": {
      "name": "python"
    }
  },
  "cells": [
    {
      "cell_type": "markdown",
      "metadata": {
        "id": "view-in-github",
        "colab_type": "text"
      },
      "source": [
        "<a href=\"https://colab.research.google.com/github/shullaw/maths/blob/main/BinaryIntegerProgramming.ipynb\" target=\"_parent\"><img src=\"https://colab.research.google.com/assets/colab-badge.svg\" alt=\"Open In Colab\"/></a>"
      ]
    },
    {
      "cell_type": "markdown",
      "source": [
        "To build or not to build\n",
        "\n",
        " vars |Yes/no?|cost(\\$m)|Lifetime value(\\$m) \n",
        "-------|------------|-------|-----------\n",
        "$x_1$ | plant in Alberta?  |  6  |  9\n",
        "$x_2$ | plant in BC?  |  3  |  6\n",
        "$x_3$ | dist. center in Albert?  |  7  |  9\n",
        "$x_4$ | dist. center in BC?  |  4  |  5\n",
        "\n",
        "Available capital:\n",
        "$6x_1 + 3x_2 + 7x_3 + 4x_4 \\leq \\$13m$\n",
        "\n",
        "<b>Constraints</b>:\n",
        "\n",
        "Only build dist. center if we have a plant in same location:\n",
        "\n",
        "1.) If $x_1 = 1, x_3=0$ or $x_3=1$\n",
        "\n",
        "so, $x_3 \\leq x_1, x_3 - x_1 \\leq 0$\n",
        "\n",
        "2.) If $x_2=1$, then $x_4=0$ or $x_4=1$\n",
        "\n",
        "and if $x_2=0$, then $x_4=0$\n",
        "\n",
        "so, $x_4 \\leq x_2, x_4-x_2\\leq0$"
      ],
      "metadata": {
        "id": "tfC8TqGSLwE5"
      }
    },
    {
      "cell_type": "markdown",
      "source": [
        "<b>Maximize</b> $Z = 9x_1 + 6x_2 + 9x_3 + 5x_4$\n",
        "\n",
        "<b>Constraints</b>  \n",
        "$\\begin{matrix}\n",
        "  6x_1 &+& 3x_2 &+& 7x_3 &+& 4x_4 &\\leq& 3.1 \\\\\n",
        "  \\\\\n",
        "   &&  && x_3 &-& x_1 &=& 0 \\\\\n",
        "   &&  && x_4 &-& x_2 &=& 0 \\\\\n",
        " \\end{matrix}$\n",
        "\n",
        "$x_1, x_2, x_3, x_4 \\in \\{0,1\\}$\n",
        "\n",
        "\n",
        " "
      ],
      "metadata": {
        "id": "dfTEzk7MQrem"
      }
    },
    {
      "cell_type": "code",
      "source": [
        "!pip install pulp"
      ],
      "metadata": {
        "colab": {
          "base_uri": "https://localhost:8080/"
        },
        "id": "F61zTzc_YzmP",
        "outputId": "e3ef93af-2d7c-4e2f-e2ea-d1c9bfc67170"
      },
      "execution_count": 2,
      "outputs": [
        {
          "output_type": "stream",
          "name": "stdout",
          "text": [
            "Collecting pulp\n",
            "  Downloading PuLP-2.6.0-py3-none-any.whl (14.2 MB)\n",
            "\u001b[K     |████████████████████████████████| 14.2 MB 8.1 MB/s \n",
            "\u001b[?25hInstalling collected packages: pulp\n",
            "Successfully installed pulp-2.6.0\n"
          ]
        }
      ]
    },
    {
      "cell_type": "code",
      "source": [
        "from pulp import LpProblem, LpMaximize\n",
        "\n",
        "model = LpProblem('lifetime-value-maximizing', sense = LpMaximize)"
      ],
      "metadata": {
        "id": "bCNqTJ5xL6se"
      },
      "execution_count": 18,
      "outputs": []
    },
    {
      "cell_type": "code",
      "source": [
        "model"
      ],
      "metadata": {
        "colab": {
          "base_uri": "https://localhost:8080/"
        },
        "id": "Yssw3h2FYxAo",
        "outputId": "df652f3d-17b8-47fc-919c-d9e69ebacecd"
      },
      "execution_count": 13,
      "outputs": [
        {
          "output_type": "execute_result",
          "data": {
            "text/plain": [
              "lifetime-value-maximizing:\n",
              "MAXIMIZE\n",
              "None\n",
              "VARIABLES"
            ]
          },
          "metadata": {},
          "execution_count": 13
        }
      ]
    },
    {
      "cell_type": "code",
      "source": [
        "from pulp import LpVariable\n",
        "\n",
        "# Alberta plant\n",
        "x_1 = LpVariable('x_1', lowBound=0, upBound=1, cat='Integer')\n",
        "# BC plant\n",
        "x_2 = LpVariable('x_2', lowBound=0, upBound=1, cat='Integer')\n",
        "# Albert dist. center\n",
        "x_3 = LpVariable('x_3', lowBound=0, upBound=1, cat='Integer')\n",
        "# BC dist. center\n",
        "x_4 = LpVariable('x_4', lowBound=0, upBound=1, cat='Integer')"
      ],
      "metadata": {
        "id": "3ktETcR8Y-5j"
      },
      "execution_count": 19,
      "outputs": []
    },
    {
      "cell_type": "code",
      "source": [
        "# objective\n",
        "model += (9*x_1 + 6*x_2 + 9*x_3 + 5*x_4, 'lifetime profit')\n",
        "\n",
        "# constraints\n",
        "model += 6*x_1 + 3*x_2 + 7*x_3 + 4*x_4 <= 13  # capital\n",
        "model += x_3 - x_1 <= 0  # if dist. center in Alberta, plant in Albert\n",
        "model += x_4 - x_2 <= 0  # if dist. center in BC, plant in BC\n",
        "\n",
        "model"
      ],
      "metadata": {
        "colab": {
          "base_uri": "https://localhost:8080/"
        },
        "id": "2rcrF5w0ZI-s",
        "outputId": "67177de8-c8fb-47ef-9317-4a64abf901d7"
      },
      "execution_count": 20,
      "outputs": [
        {
          "output_type": "execute_result",
          "data": {
            "text/plain": [
              "lifetime-value-maximizing:\n",
              "MAXIMIZE\n",
              "9*x_1 + 6*x_2 + 9*x_3 + 5*x_4 + 0\n",
              "SUBJECT TO\n",
              "_C1: 6 x_1 + 3 x_2 + 7 x_3 + 4 x_4 <= 13\n",
              "\n",
              "_C2: - x_1 + x_3 <= 0\n",
              "\n",
              "_C3: - x_2 + x_4 <= 0\n",
              "\n",
              "VARIABLES\n",
              "0 <= x_1 <= 1 Integer\n",
              "0 <= x_2 <= 1 Integer\n",
              "0 <= x_3 <= 1 Integer\n",
              "0 <= x_4 <= 1 Integer"
            ]
          },
          "metadata": {},
          "execution_count": 20
        }
      ]
    },
    {
      "cell_type": "code",
      "source": [
        "from pulp.constants import LpStatus\n",
        "status = model.solve()\n",
        "\n",
        "print(f'status:{model.status} == {LpStatus[model.status]}')"
      ],
      "metadata": {
        "colab": {
          "base_uri": "https://localhost:8080/"
        },
        "id": "F43YmeopZxmV",
        "outputId": "ca9d4432-f951-47af-cdec-ee70859725f6"
      },
      "execution_count": 21,
      "outputs": [
        {
          "output_type": "stream",
          "name": "stdout",
          "text": [
            "status:1 == Optimal\n"
          ]
        }
      ]
    },
    {
      "cell_type": "code",
      "source": [
        "model.objective.value()  # maximum lifetime value"
      ],
      "metadata": {
        "colab": {
          "base_uri": "https://localhost:8080/"
        },
        "id": "u7bKrHIzaZPQ",
        "outputId": "032008c7-4604-47b3-f16c-4b4b48820159"
      },
      "execution_count": 22,
      "outputs": [
        {
          "output_type": "execute_result",
          "data": {
            "text/plain": [
              "20.0"
            ]
          },
          "metadata": {},
          "execution_count": 22
        }
      ]
    },
    {
      "cell_type": "code",
      "source": [
        "[print(f'{var.name} : {var.value()}') for var in model.variables()]"
      ],
      "metadata": {
        "colab": {
          "base_uri": "https://localhost:8080/"
        },
        "id": "2mTFXABWaejN",
        "outputId": "ff8d5998-c709-4b6f-f7f6-6528b03b7366"
      },
      "execution_count": 24,
      "outputs": [
        {
          "output_type": "stream",
          "name": "stdout",
          "text": [
            "x_1 : 1.0\n",
            "x_2 : 1.0\n",
            "x_3 : 0.0\n",
            "x_4 : 1.0\n"
          ]
        },
        {
          "output_type": "execute_result",
          "data": {
            "text/plain": [
              "[None, None, None, None]"
            ]
          },
          "metadata": {},
          "execution_count": 24
        }
      ]
    },
    {
      "cell_type": "markdown",
      "source": [
        "$x_1 = 1 \\rightarrow$  Build plant in Alberta\n",
        "\n",
        "$x_2 = 1 \\rightarrow$ Build plant in BC\n",
        "\n",
        "$x_3 = 0 \\rightarrow$ Do not build dist. center in Alberta\n",
        "\n",
        "$x_4 = 1 \\rightarrow$ Build dist. center in BC"
      ],
      "metadata": {
        "id": "uU4C8YO1bPkr"
      }
    },
    {
      "cell_type": "code",
      "source": [
        ""
      ],
      "metadata": {
        "id": "Mvp7XHkPa2os"
      },
      "execution_count": null,
      "outputs": []
    }
  ]
}
