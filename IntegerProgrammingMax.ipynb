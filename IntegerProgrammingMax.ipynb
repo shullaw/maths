{
  "nbformat": 4,
  "nbformat_minor": 0,
  "metadata": {
    "colab": {
      "name": "Untitled5.ipynb",
      "provenance": [],
      "authorship_tag": "ABX9TyOIj9vEMoSezJjEXivwX/c0",
      "include_colab_link": true
    },
    "kernelspec": {
      "name": "python3",
      "display_name": "Python 3"
    },
    "language_info": {
      "name": "python"
    }
  },
  "cells": [
    {
      "cell_type": "markdown",
      "metadata": {
        "id": "view-in-github",
        "colab_type": "text"
      },
      "source": [
        "<a href=\"https://colab.research.google.com/github/shullaw/maths/blob/main/IntegerProgrammingMax.ipynb\" target=\"_parent\"><img src=\"https://colab.research.google.com/assets/colab-badge.svg\" alt=\"Open In Colab\"/></a>"
      ]
    },
    {
      "cell_type": "markdown",
      "source": [
        "Integer Linear Programming (Binary Decision)"
      ],
      "metadata": {
        "id": "R2muhJuufAuB"
      }
    },
    {
      "cell_type": "code",
      "source": [
        "!pip install pulp"
      ],
      "metadata": {
        "colab": {
          "base_uri": "https://localhost:8080/"
        },
        "id": "jFdup-a-fHGT",
        "outputId": "aac54b0c-4955-4edb-d03b-9934cf9b32b6"
      },
      "execution_count": 9,
      "outputs": [
        {
          "output_type": "stream",
          "name": "stdout",
          "text": [
            "Requirement already satisfied: pulp in /usr/local/lib/python3.7/dist-packages (2.6.0)\n"
          ]
        }
      ]
    },
    {
      "cell_type": "code",
      "source": [
        "from pulp import LpProblem, LpMaximize\n",
        "\n",
        "model = LpProblem('profit-maximizing', sense=LpMaximize)\n",
        "model"
      ],
      "metadata": {
        "colab": {
          "base_uri": "https://localhost:8080/"
        },
        "id": "7I0rCUaZfSuF",
        "outputId": "e0f37f6a-b855-47ad-8e95-e3373601d6fd"
      },
      "execution_count": 10,
      "outputs": [
        {
          "output_type": "execute_result",
          "data": {
            "text/plain": [
              "profit-maximizing:\n",
              "MAXIMIZE\n",
              "None\n",
              "VARIABLES"
            ]
          },
          "metadata": {},
          "execution_count": 10
        }
      ]
    },
    {
      "cell_type": "markdown",
      "source": [
        "Decision Variables (should project be executed or not?)"
      ],
      "metadata": {
        "id": "uXukRCi8foSj"
      }
    },
    {
      "cell_type": "code",
      "source": [
        "from pulp import LpVariable\n",
        "\n",
        "x_1 = LpVariable('x_1', lowBound=0, upBound=1, cat='Integer')\n",
        "\n",
        "x_2 = LpVariable('x_2', lowBound=0, upBound=1, cat='Integer')\n",
        "\n",
        "x_3 = LpVariable('x_3', lowBound=0, upBound=1, cat='Integer')\n",
        "\n",
        "x_4 = LpVariable('x_4', lowBound=0, upBound=1, cat='Integer')"
      ],
      "metadata": {
        "id": "pGidHJGffqLV"
      },
      "execution_count": 11,
      "outputs": []
    },
    {
      "cell_type": "markdown",
      "source": [
        "Objective Function"
      ],
      "metadata": {
        "id": "4ap06TiZgPtm"
      }
    },
    {
      "cell_type": "code",
      "source": [
        "model += (2*x_1 + 3*x_2 + 5*x_3 + 1*x_4, 'lifetime profit')\n",
        "\n",
        "model += (.5*x_1 + 1*x_2 + 1.5*x_3 + .1*x_4 <= 3.1, 'year 1')\n",
        "model += (.3*x_1 + .8*x_2 + 1.5*x_3 + .4*x_4 <= 2.5, 'year 2')\n",
        "model += (.2*x_1 + .2*x_2 + .3*x_3 + .1*x_4 <= .4, 'year 3')\n",
        "\n",
        "model"
      ],
      "metadata": {
        "colab": {
          "base_uri": "https://localhost:8080/"
        },
        "id": "ZWvZpngBgRQw",
        "outputId": "67ea7112-d3e3-46f5-9253-e8368e732ba6"
      },
      "execution_count": 12,
      "outputs": [
        {
          "output_type": "execute_result",
          "data": {
            "text/plain": [
              "profit-maximizing:\n",
              "MAXIMIZE\n",
              "2*x_1 + 3*x_2 + 5*x_3 + 1*x_4 + 0\n",
              "SUBJECT TO\n",
              "year_1: 0.5 x_1 + x_2 + 1.5 x_3 + 0.1 x_4 <= 3.1\n",
              "\n",
              "year_2: 0.3 x_1 + 0.8 x_2 + 1.5 x_3 + 0.4 x_4 <= 2.5\n",
              "\n",
              "year_3: 0.2 x_1 + 0.2 x_2 + 0.3 x_3 + 0.1 x_4 <= 0.4\n",
              "\n",
              "VARIABLES\n",
              "0 <= x_1 <= 1 Integer\n",
              "0 <= x_2 <= 1 Integer\n",
              "0 <= x_3 <= 1 Integer\n",
              "0 <= x_4 <= 1 Integer"
            ]
          },
          "metadata": {},
          "execution_count": 12
        }
      ]
    },
    {
      "cell_type": "code",
      "source": [
        "from pulp import LpStatus\n",
        "status = model.solve()\n",
        "\n",
        "print(f'status: {model.status} == {LpStatus[model.status]}')"
      ],
      "metadata": {
        "colab": {
          "base_uri": "https://localhost:8080/"
        },
        "id": "MHiYHpAVgM4D",
        "outputId": "b4743bc1-00c7-4e47-d980-8484ddabcc6b"
      },
      "execution_count": 13,
      "outputs": [
        {
          "output_type": "stream",
          "name": "stdout",
          "text": [
            "status: 1 == Optimal\n"
          ]
        }
      ]
    },
    {
      "cell_type": "code",
      "source": [
        "model.objective.value()"
      ],
      "metadata": {
        "colab": {
          "base_uri": "https://localhost:8080/"
        },
        "id": "UJlPDG_kfjRg",
        "outputId": "5f3c327c-16a6-4b40-8f76-7a5718aa8ee5"
      },
      "execution_count": 14,
      "outputs": [
        {
          "output_type": "execute_result",
          "data": {
            "text/plain": [
              "6.0"
            ]
          },
          "metadata": {},
          "execution_count": 14
        }
      ]
    },
    {
      "cell_type": "code",
      "source": [
        "[print(f'{var.name} : {var.value()}') for var in model.variables()]"
      ],
      "metadata": {
        "colab": {
          "base_uri": "https://localhost:8080/"
        },
        "id": "DtgyXpViiEAm",
        "outputId": "f4553fa7-7be9-4a91-bac6-64a5903e41b4"
      },
      "execution_count": 15,
      "outputs": [
        {
          "output_type": "stream",
          "name": "stdout",
          "text": [
            "x_1 : 0.0\n",
            "x_2 : 0.0\n",
            "x_3 : 1.0\n",
            "x_4 : 1.0\n"
          ]
        },
        {
          "output_type": "execute_result",
          "data": {
            "text/plain": [
              "[None, None, None, None]"
            ]
          },
          "metadata": {},
          "execution_count": 15
        }
      ]
    },
    {
      "cell_type": "markdown",
      "source": [
        "We should execute x_3 and x_4, not x_1 and x_2"
      ],
      "metadata": {
        "id": "KWiL0Lu-iVdC"
      }
    },
    {
      "cell_type": "markdown",
      "source": [
        "Consider the same problem, but x_1 or x_2 must be chosen..."
      ],
      "metadata": {
        "id": "ntTtYk1BiiTE"
      }
    },
    {
      "cell_type": "code",
      "source": [
        "model = LpProblem('profit-maximizing', sense=LpMaximize)\n",
        "model"
      ],
      "metadata": {
        "colab": {
          "base_uri": "https://localhost:8080/"
        },
        "id": "ATygOZ1XiNPb",
        "outputId": "cc2b0520-8e87-45a4-f3e0-0ab232fc0df8"
      },
      "execution_count": 16,
      "outputs": [
        {
          "output_type": "execute_result",
          "data": {
            "text/plain": [
              "profit-maximizing:\n",
              "MAXIMIZE\n",
              "None\n",
              "VARIABLES"
            ]
          },
          "metadata": {},
          "execution_count": 16
        }
      ]
    },
    {
      "cell_type": "code",
      "source": [
        "x_1 = LpVariable('x_1', lowBound=0, upBound=1, cat='Integer')\n",
        "\n",
        "x_2 = LpVariable('x_2', lowBound=0, upBound=1, cat='Integer')\n",
        "\n",
        "x_3 = LpVariable('x_3', lowBound=0, upBound=1, cat='Integer')\n",
        "\n",
        "x_4 = LpVariable('x_4', lowBound=0, upBound=1, cat='Integer')"
      ],
      "metadata": {
        "id": "CVF3iQwOitJJ"
      },
      "execution_count": 17,
      "outputs": []
    },
    {
      "cell_type": "code",
      "source": [
        "model += (2*x_1 + 3*x_2 + 5*x_3 + 1*x_4, 'lifetime profit')  # objective\n",
        "\n",
        "# constraints\n",
        "model += (.5*x_1 + 1*x_2 + 1.5*x_3 + .1*x_4 <= 3.1, 'year 1')\n",
        "model += (.3*x_1 + .8*x_2 + 1.5*x_3 + .4*x_4 <= 2.5, 'year 2')\n",
        "model += (.2*x_1 + .2*x_2 + .3*x_3 + .1*x_4 <= .4, 'year 3')\n",
        "\n",
        "model"
      ],
      "metadata": {
        "colab": {
          "base_uri": "https://localhost:8080/"
        },
        "id": "E1yotTZ3i1J1",
        "outputId": "ed76ea71-2463-4137-8ea3-8a3b16ee8032"
      },
      "execution_count": 18,
      "outputs": [
        {
          "output_type": "execute_result",
          "data": {
            "text/plain": [
              "profit-maximizing:\n",
              "MAXIMIZE\n",
              "2*x_1 + 3*x_2 + 5*x_3 + 1*x_4 + 0\n",
              "SUBJECT TO\n",
              "year_1: 0.5 x_1 + x_2 + 1.5 x_3 + 0.1 x_4 <= 3.1\n",
              "\n",
              "year_2: 0.3 x_1 + 0.8 x_2 + 1.5 x_3 + 0.4 x_4 <= 2.5\n",
              "\n",
              "year_3: 0.2 x_1 + 0.2 x_2 + 0.3 x_3 + 0.1 x_4 <= 0.4\n",
              "\n",
              "VARIABLES\n",
              "0 <= x_1 <= 1 Integer\n",
              "0 <= x_2 <= 1 Integer\n",
              "0 <= x_3 <= 1 Integer\n",
              "0 <= x_4 <= 1 Integer"
            ]
          },
          "metadata": {},
          "execution_count": 18
        }
      ]
    },
    {
      "cell_type": "markdown",
      "source": [
        "Additional constraint:"
      ],
      "metadata": {
        "id": "mNgfqN2KjBSq"
      }
    },
    {
      "cell_type": "code",
      "source": [
        "model += (x_1 + x_2 == 1, 'x_1 or x_2')\n",
        "model"
      ],
      "metadata": {
        "colab": {
          "base_uri": "https://localhost:8080/"
        },
        "id": "ZrMON8EZi-tn",
        "outputId": "579a314d-5d54-47b8-f3b3-7998a2f0e696"
      },
      "execution_count": 19,
      "outputs": [
        {
          "output_type": "execute_result",
          "data": {
            "text/plain": [
              "profit-maximizing:\n",
              "MAXIMIZE\n",
              "2*x_1 + 3*x_2 + 5*x_3 + 1*x_4 + 0\n",
              "SUBJECT TO\n",
              "year_1: 0.5 x_1 + x_2 + 1.5 x_3 + 0.1 x_4 <= 3.1\n",
              "\n",
              "year_2: 0.3 x_1 + 0.8 x_2 + 1.5 x_3 + 0.4 x_4 <= 2.5\n",
              "\n",
              "year_3: 0.2 x_1 + 0.2 x_2 + 0.3 x_3 + 0.1 x_4 <= 0.4\n",
              "\n",
              "x_1_or_x_2: x_1 + x_2 = 1\n",
              "\n",
              "VARIABLES\n",
              "0 <= x_1 <= 1 Integer\n",
              "0 <= x_2 <= 1 Integer\n",
              "0 <= x_3 <= 1 Integer\n",
              "0 <= x_4 <= 1 Integer"
            ]
          },
          "metadata": {},
          "execution_count": 19
        }
      ]
    },
    {
      "cell_type": "code",
      "source": [
        "status = model.solve()\n",
        "\n",
        "print(f'status: {model.status} == {LpStatus[model.status]}')"
      ],
      "metadata": {
        "colab": {
          "base_uri": "https://localhost:8080/"
        },
        "id": "QYtcumUijKl4",
        "outputId": "bd020cc1-9a18-43fa-9462-36292a196324"
      },
      "execution_count": 20,
      "outputs": [
        {
          "output_type": "stream",
          "name": "stdout",
          "text": [
            "status: 1 == Optimal\n"
          ]
        }
      ]
    },
    {
      "cell_type": "code",
      "source": [
        "model.objective.value()"
      ],
      "metadata": {
        "colab": {
          "base_uri": "https://localhost:8080/"
        },
        "id": "G9yavbc0jYyE",
        "outputId": "f57e5c05-eec2-448d-c970-d79c908dc674"
      },
      "execution_count": 21,
      "outputs": [
        {
          "output_type": "execute_result",
          "data": {
            "text/plain": [
              "4.0"
            ]
          },
          "metadata": {},
          "execution_count": 21
        }
      ]
    },
    {
      "cell_type": "code",
      "source": [
        "[print(f'{var.name} : {var.value()}') for var in model.variables()]"
      ],
      "metadata": {
        "colab": {
          "base_uri": "https://localhost:8080/"
        },
        "id": "0_GBpHs9jd1W",
        "outputId": "eb55bede-7d96-4506-fddb-d3fde9f053c6"
      },
      "execution_count": 22,
      "outputs": [
        {
          "output_type": "stream",
          "name": "stdout",
          "text": [
            "x_1 : 0.0\n",
            "x_2 : 1.0\n",
            "x_3 : 0.0\n",
            "x_4 : 1.0\n"
          ]
        },
        {
          "output_type": "execute_result",
          "data": {
            "text/plain": [
              "[None, None, None, None]"
            ]
          },
          "metadata": {},
          "execution_count": 22
        }
      ]
    },
    {
      "cell_type": "markdown",
      "source": [
        "Choose x_1 and x_4 due to the fact that x_1 or x_2 must be chosen."
      ],
      "metadata": {
        "id": "YHvGnejzjqGe"
      }
    },
    {
      "cell_type": "code",
      "source": [
        ""
      ],
      "metadata": {
        "id": "_-8cVtoUjvh5"
      },
      "execution_count": null,
      "outputs": []
    }
  ]
}